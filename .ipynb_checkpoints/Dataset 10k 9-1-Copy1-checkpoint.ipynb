{
 "cells": [
  {
   "cell_type": "code",
   "execution_count": 1,
   "id": "36291fbc",
   "metadata": {
    "executionInfo": {
     "elapsed": 3898,
     "status": "ok",
     "timestamp": 1659524718042,
     "user": {
      "displayName": "Gerald Winata",
      "userId": "14820635155723547780"
     },
     "user_tz": -420
    },
    "extensions": {
     "jupyter_dashboards": {
      "version": 1,
      "views": {
       "default_view": {
        "col": 0,
        "height": 2,
        "row": 2,
        "width": 12
       },
       "grid_default": {
        "col": null,
        "height": 2,
        "hidden": true,
        "row": null,
        "width": 2
       }
      }
     }
    },
    "id": "36291fbc"
   },
   "outputs": [],
   "source": [
    "# Import Library\n",
    "import pandas as pd\n",
    "import numpy as np\n",
    "import nltk\n",
    "import string\n",
    "import re\n",
    "from textblob import TextBlob"
   ]
  },
  {
   "cell_type": "code",
   "execution_count": 2,
   "id": "bd23bc84",
   "metadata": {
    "executionInfo": {
     "elapsed": 375,
     "status": "ok",
     "timestamp": 1659524750314,
     "user": {
      "displayName": "Gerald Winata",
      "userId": "14820635155723547780"
     },
     "user_tz": -420
    },
    "extensions": {
     "jupyter_dashboards": {
      "version": 1,
      "views": {
       "default_view": {
        "col": 0,
        "height": 2,
        "row": 4,
        "width": 12
       },
       "grid_default": {
        "col": null,
        "height": 2,
        "hidden": true,
        "row": null,
        "width": 2
       }
      }
     }
    },
    "id": "bd23bc84"
   },
   "outputs": [],
   "source": [
    "# Load Data Tweet\n",
    "def load_data(i):\n",
    "    data = pd.read_csv(i)\n",
    "    return data"
   ]
  },
  {
   "cell_type": "code",
   "execution_count": 3,
   "id": "fc4b16a9-954b-4933-87a1-652ee55619c7",
   "metadata": {
    "colab": {
     "base_uri": "https://localhost:8080/",
     "height": 328
    },
    "executionInfo": {
     "elapsed": 389,
     "status": "error",
     "timestamp": 1659524777569,
     "user": {
      "displayName": "Gerald Winata",
      "userId": "14820635155723547780"
     },
     "user_tz": -420
    },
    "extensions": {
     "jupyter_dashboards": {
      "version": 1,
      "views": {
       "default_view": {
        "hidden": true
       },
       "grid_default": {
        "col": null,
        "height": 2,
        "hidden": true,
        "row": null,
        "width": 2
       }
      }
     }
    },
    "id": "fc4b16a9-954b-4933-87a1-652ee55619c7",
    "outputId": "f90d2731-e498-45a8-a8cc-4ee4580c00e0"
   },
   "outputs": [],
   "source": [
    "# df = load_data('asli/NFT 1k.csv')\n",
    "# df = load_data('asli/NFT 2k.csv')\n",
    "df = load_data('asli/NFT 10k.csv')"
   ]
  },
  {
   "cell_type": "code",
   "execution_count": 4,
   "id": "36866fe2-8524-4eec-9786-1d2108bbad3e",
   "metadata": {
    "extensions": {
     "jupyter_dashboards": {
      "version": 1,
      "views": {
       "default_view": {
        "col": 0,
        "height": 2,
        "row": 8,
        "width": 12
       },
       "grid_default": {
        "col": null,
        "height": 2,
        "hidden": true,
        "row": null,
        "width": 2
       }
      }
     }
    },
    "id": "36866fe2-8524-4eec-9786-1d2108bbad3e",
    "outputId": "057fd8d8-6991-4c85-c812-95262e607c85"
   },
   "outputs": [
    {
     "data": {
      "text/html": [
       "<div>\n",
       "<style scoped>\n",
       "    .dataframe tbody tr th:only-of-type {\n",
       "        vertical-align: middle;\n",
       "    }\n",
       "\n",
       "    .dataframe tbody tr th {\n",
       "        vertical-align: top;\n",
       "    }\n",
       "\n",
       "    .dataframe thead th {\n",
       "        text-align: right;\n",
       "    }\n",
       "</style>\n",
       "<table border=\"1\" class=\"dataframe\">\n",
       "  <thead>\n",
       "    <tr style=\"text-align: right;\">\n",
       "      <th></th>\n",
       "      <th>Time</th>\n",
       "      <th>User</th>\n",
       "      <th>Tweets</th>\n",
       "    </tr>\n",
       "  </thead>\n",
       "  <tbody>\n",
       "    <tr>\n",
       "      <th>0</th>\n",
       "      <td>2022-04-26 10:48:21+00:00</td>\n",
       "      <td>jeonghancitywin</td>\n",
       "      <td>@sof1azara03 @L8YC_NFT bismillahirrahmanirrahi...</td>\n",
       "    </tr>\n",
       "    <tr>\n",
       "      <th>1</th>\n",
       "      <td>2022-04-26 10:48:20+00:00</td>\n",
       "      <td>AngelaD91357090</td>\n",
       "      <td>@abushe7 8Pr2JtxCCLXK2PAjaPMu33VCDiTuRn4GWLm6N...</td>\n",
       "    </tr>\n",
       "    <tr>\n",
       "      <th>2</th>\n",
       "      <td>2022-04-26 10:48:09+00:00</td>\n",
       "      <td>sossgirl_cx</td>\n",
       "      <td>RT @AreumPromotes: $50 || 700K IDR || 24hrs 🌷\\...</td>\n",
       "    </tr>\n",
       "    <tr>\n",
       "      <th>3</th>\n",
       "      <td>2022-04-26 10:48:09+00:00</td>\n",
       "      <td>FloLady_Ochie</td>\n",
       "      <td>@othiliae_nft Astaga shujin, ini holol!</td>\n",
       "    </tr>\n",
       "    <tr>\n",
       "      <th>4</th>\n",
       "      <td>2022-04-26 10:48:09+00:00</td>\n",
       "      <td>unicornart_nft</td>\n",
       "      <td>@cyber_yuyu Gm Yuyu! ☀️</td>\n",
       "    </tr>\n",
       "    <tr>\n",
       "      <th>...</th>\n",
       "      <td>...</td>\n",
       "      <td>...</td>\n",
       "      <td>...</td>\n",
       "    </tr>\n",
       "    <tr>\n",
       "      <th>9995</th>\n",
       "      <td>2022-04-25 07:41:25+00:00</td>\n",
       "      <td>Amirrezasalimi5</td>\n",
       "      <td>@NFT_Advisor 0x2CFFb7F387E054C531414fBC3377149...</td>\n",
       "    </tr>\n",
       "    <tr>\n",
       "      <th>9996</th>\n",
       "      <td>2022-04-25 07:41:18+00:00</td>\n",
       "      <td>fullyyongxx</td>\n",
       "      <td>RT @Nikiyagives: $20 | 280K ~ 72hrs\\n\\n• Rt + ...</td>\n",
       "    </tr>\n",
       "    <tr>\n",
       "      <th>9997</th>\n",
       "      <td>2022-04-25 07:41:09+00:00</td>\n",
       "      <td>ayokbigwin01</td>\n",
       "      <td>@furrincrypto @MoneyPals_NFT Done ✔️Allahumma ...</td>\n",
       "    </tr>\n",
       "    <tr>\n",
       "      <th>9998</th>\n",
       "      <td>2022-04-25 07:40:55+00:00</td>\n",
       "      <td>Otetharianto</td>\n",
       "      <td>@Vmates_official @balumahendra_n @JuraganTech ...</td>\n",
       "    </tr>\n",
       "    <tr>\n",
       "      <th>9999</th>\n",
       "      <td>2022-04-25 07:40:46+00:00</td>\n",
       "      <td>saCh1_bkNTachik</td>\n",
       "      <td>@NFT_Dispatch @akunaninwangi \\n@0xaprilwinscit...</td>\n",
       "    </tr>\n",
       "  </tbody>\n",
       "</table>\n",
       "<p>10000 rows × 3 columns</p>\n",
       "</div>"
      ],
      "text/plain": [
       "                           Time             User  \\\n",
       "0     2022-04-26 10:48:21+00:00  jeonghancitywin   \n",
       "1     2022-04-26 10:48:20+00:00  AngelaD91357090   \n",
       "2     2022-04-26 10:48:09+00:00      sossgirl_cx   \n",
       "3     2022-04-26 10:48:09+00:00    FloLady_Ochie   \n",
       "4     2022-04-26 10:48:09+00:00   unicornart_nft   \n",
       "...                         ...              ...   \n",
       "9995  2022-04-25 07:41:25+00:00  Amirrezasalimi5   \n",
       "9996  2022-04-25 07:41:18+00:00      fullyyongxx   \n",
       "9997  2022-04-25 07:41:09+00:00     ayokbigwin01   \n",
       "9998  2022-04-25 07:40:55+00:00     Otetharianto   \n",
       "9999  2022-04-25 07:40:46+00:00  saCh1_bkNTachik   \n",
       "\n",
       "                                                 Tweets  \n",
       "0     @sof1azara03 @L8YC_NFT bismillahirrahmanirrahi...  \n",
       "1     @abushe7 8Pr2JtxCCLXK2PAjaPMu33VCDiTuRn4GWLm6N...  \n",
       "2     RT @AreumPromotes: $50 || 700K IDR || 24hrs 🌷\\...  \n",
       "3               @othiliae_nft Astaga shujin, ini holol!  \n",
       "4                               @cyber_yuyu Gm Yuyu! ☀️  \n",
       "...                                                 ...  \n",
       "9995  @NFT_Advisor 0x2CFFb7F387E054C531414fBC3377149...  \n",
       "9996  RT @Nikiyagives: $20 | 280K ~ 72hrs\\n\\n• Rt + ...  \n",
       "9997  @furrincrypto @MoneyPals_NFT Done ✔️Allahumma ...  \n",
       "9998  @Vmates_official @balumahendra_n @JuraganTech ...  \n",
       "9999  @NFT_Dispatch @akunaninwangi \\n@0xaprilwinscit...  \n",
       "\n",
       "[10000 rows x 3 columns]"
      ]
     },
     "execution_count": 4,
     "metadata": {},
     "output_type": "execute_result"
    }
   ],
   "source": [
    "df"
   ]
  },
  {
   "cell_type": "code",
   "execution_count": 5,
   "id": "d8d44b41-f5cc-461d-96d6-a2857fd99eab",
   "metadata": {
    "extensions": {
     "jupyter_dashboards": {
      "version": 1,
      "views": {
       "default_view": {
        "hidden": true
       },
       "grid_default": {
        "col": null,
        "height": 2,
        "hidden": true,
        "row": null,
        "width": 2
       }
      }
     }
    },
    "id": "d8d44b41-f5cc-461d-96d6-a2857fd99eab"
   },
   "outputs": [],
   "source": [
    "#Case Folding\n",
    "def cf(tweet):\n",
    "    tweet = tweet.casefold()\n",
    "    return tweet\n",
    "df['CaseFold'] = df['Tweets'].apply(cf)\n",
    "\n",
    "\n",
    "#Cleansing\n",
    "def clean(tweet):\n",
    "    tweet = re.sub(r'@\\w_\\w+', '', tweet)\n",
    "    tweet = re.sub(r'@\\w+', '', tweet)\n",
    "    tweet = re.sub(r'_', '', tweet)\n",
    "    tweet = re.sub(r'#', '', tweet)\n",
    "    tweet = re.sub(r'rt[\\s]+', '', tweet)\n",
    "    tweet = re.sub(r'https?:\\/\\/\\S+', '', tweet)\n",
    "    tweet =  re.sub(r'[0-9]\\w+', '', tweet)\n",
    "    tweet =  re.sub(r'[0-9]+', '', tweet)\n",
    "    tweet =  re.sub(r'\\n+', ' ', tweet)\n",
    "    tweet =  re.sub(r'\\W+', ' ', tweet)\n",
    "    return tweet\n",
    "df['Cleansing'] = df['CaseFold'].apply(clean)\n",
    "df['Cleansing'].replace(' ', np.nan, inplace=True)\n",
    "df.dropna(subset=['Cleansing'], inplace=True)\n",
    "\n",
    "\n",
    "# Stopwords Removal\n",
    "from nltk.corpus import stopwords\n",
    "from Sastrawi.StopWordRemover.StopWordRemoverFactory import StopWordRemoverFactory\n",
    "\n",
    "stopwEng = stopwords.words('english')\n",
    "stopwIN = StopWordRemoverFactory().get_stop_words()\n",
    "\n",
    "df['StopW'] = df['Cleansing'].apply(lambda x: ' '.join([word for word in x.split() if word not in (stopwEng)]))\n",
    "df['StopW'] = df['StopW'].apply(lambda x: ' '.join([word for word in x.split() if word not in (stopwIN)]))\n",
    "\n",
    "df['StopW'].replace('', np.nan, inplace=True)\n",
    "df.dropna(subset=['StopW'], inplace=True)\n",
    "\n",
    "\n",
    "#Tokenizing\n",
    "from nltk.tokenize import TweetTokenizer\n",
    "\n",
    "def tokenize(tweet): \n",
    "    # tokenize tweets\n",
    "    tokenizer = TweetTokenizer(preserve_case=False, strip_handles=True, reduce_len=True)\n",
    "    tweet_tokens = tokenizer.tokenize(tweet)\n",
    "    return tweet_tokens\n",
    "    \n",
    "df['Tokenizing'] = df['StopW'].apply(tokenize)\n",
    "\n",
    "\n",
    "#Stemming\n",
    "from Sastrawi.Stemmer.StemmerFactory import StemmerFactory\n",
    "factory = StemmerFactory()\n",
    "stemmer = factory.create_stemmer()\n",
    "\n",
    "def stemming(tweet):\n",
    "    tweets_clean = []   \n",
    "    for word in tweet:\n",
    "        stem = stemmer.stem(word) # stemming word\n",
    "        tweets_clean.append(stem)\n",
    "    return tweets_clean\n",
    "\n",
    "df['Stemming'] = df['Tokenizing'].apply(stemming)"
   ]
  },
  {
   "cell_type": "code",
   "execution_count": 6,
   "id": "227d8d07-9b51-4144-a38b-9f2f8c84336a",
   "metadata": {
    "extensions": {
     "jupyter_dashboards": {
      "version": 1,
      "views": {
       "default_view": {
        "col": 0,
        "height": 2,
        "row": 16,
        "width": 12
       },
       "grid_default": {
        "col": null,
        "height": 2,
        "hidden": true,
        "row": null,
        "width": 2
       }
      }
     }
    },
    "id": "227d8d07-9b51-4144-a38b-9f2f8c84336a",
    "outputId": "dc1f7797-f0e1-49c5-e6f5-6d006cf5ea07"
   },
   "outputs": [
    {
     "data": {
      "text/html": [
       "<div>\n",
       "<style scoped>\n",
       "    .dataframe tbody tr th:only-of-type {\n",
       "        vertical-align: middle;\n",
       "    }\n",
       "\n",
       "    .dataframe tbody tr th {\n",
       "        vertical-align: top;\n",
       "    }\n",
       "\n",
       "    .dataframe thead th {\n",
       "        text-align: right;\n",
       "    }\n",
       "</style>\n",
       "<table border=\"1\" class=\"dataframe\">\n",
       "  <thead>\n",
       "    <tr style=\"text-align: right;\">\n",
       "      <th></th>\n",
       "      <th>Time</th>\n",
       "      <th>User</th>\n",
       "      <th>Tweets</th>\n",
       "      <th>CaseFold</th>\n",
       "      <th>Cleansing</th>\n",
       "      <th>StopW</th>\n",
       "      <th>Tokenizing</th>\n",
       "      <th>Stemming</th>\n",
       "    </tr>\n",
       "  </thead>\n",
       "  <tbody>\n",
       "    <tr>\n",
       "      <th>0</th>\n",
       "      <td>2022-04-26 10:48:21+00:00</td>\n",
       "      <td>jeonghancitywin</td>\n",
       "      <td>@sof1azara03 @L8YC_NFT bismillahirrahmanirrahi...</td>\n",
       "      <td>@sof1azara03 @l8yc_nft bismillahirrahmanirrahi...</td>\n",
       "      <td>bismillahirrahmanirrahim done</td>\n",
       "      <td>bismillahirrahmanirrahim done</td>\n",
       "      <td>[bismillahirrahmanirrahim, done]</td>\n",
       "      <td>[bismillahirrahmanirrahim, done]</td>\n",
       "    </tr>\n",
       "    <tr>\n",
       "      <th>2</th>\n",
       "      <td>2022-04-26 10:48:09+00:00</td>\n",
       "      <td>sossgirl_cx</td>\n",
       "      <td>RT @AreumPromotes: $50 || 700K IDR || 24hrs 🌷\\...</td>\n",
       "      <td>rt @areumpromotes: $50 || 700k idr || 24hrs 🌷\\...</td>\n",
       "      <td>idr rt like follow</td>\n",
       "      <td>idr rt like follow</td>\n",
       "      <td>[idr, rt, like, follow]</td>\n",
       "      <td>[idr, rt, like, follow]</td>\n",
       "    </tr>\n",
       "    <tr>\n",
       "      <th>3</th>\n",
       "      <td>2022-04-26 10:48:09+00:00</td>\n",
       "      <td>FloLady_Ochie</td>\n",
       "      <td>@othiliae_nft Astaga shujin, ini holol!</td>\n",
       "      <td>@othiliae_nft astaga shujin, ini holol!</td>\n",
       "      <td>astaga shujin ini holol</td>\n",
       "      <td>astaga shujin holol</td>\n",
       "      <td>[astaga, shujin, holol]</td>\n",
       "      <td>[astaga, shujin, holol]</td>\n",
       "    </tr>\n",
       "    <tr>\n",
       "      <th>4</th>\n",
       "      <td>2022-04-26 10:48:09+00:00</td>\n",
       "      <td>unicornart_nft</td>\n",
       "      <td>@cyber_yuyu Gm Yuyu! ☀️</td>\n",
       "      <td>@cyber_yuyu gm yuyu! ☀️</td>\n",
       "      <td>gm yuyu</td>\n",
       "      <td>gm yuyu</td>\n",
       "      <td>[gm, yuyu]</td>\n",
       "      <td>[gm, yuyu]</td>\n",
       "    </tr>\n",
       "    <tr>\n",
       "      <th>6</th>\n",
       "      <td>2022-04-26 10:48:08+00:00</td>\n",
       "      <td>Nichole48369046</td>\n",
       "      <td>@abushe7 BdtiQMAL3mpvbvGncmdtakFERCf8dng9eTnY2...</td>\n",
       "      <td>@abushe7 bdtiqmal3mpvbvgncmdtakfercf8dng9etny2...</td>\n",
       "      <td>bdtiqmal</td>\n",
       "      <td>bdtiqmal</td>\n",
       "      <td>[bdtiqmal]</td>\n",
       "      <td>[bdtiqmal]</td>\n",
       "    </tr>\n",
       "    <tr>\n",
       "      <th>...</th>\n",
       "      <td>...</td>\n",
       "      <td>...</td>\n",
       "      <td>...</td>\n",
       "      <td>...</td>\n",
       "      <td>...</td>\n",
       "      <td>...</td>\n",
       "      <td>...</td>\n",
       "      <td>...</td>\n",
       "    </tr>\n",
       "    <tr>\n",
       "      <th>9993</th>\n",
       "      <td>2022-04-25 07:42:01+00:00</td>\n",
       "      <td>bang_akbar2022</td>\n",
       "      <td>@VigoLartes @TeddyBoy_NFT DC rizqi#4738 https:...</td>\n",
       "      <td>@vigolartes @teddyboy_nft dc rizqi#4738 https:...</td>\n",
       "      <td>dc rizqi</td>\n",
       "      <td>dc rizqi</td>\n",
       "      <td>[dc, rizqi]</td>\n",
       "      <td>[dc, rizqi]</td>\n",
       "    </tr>\n",
       "    <tr>\n",
       "      <th>9994</th>\n",
       "      <td>2022-04-25 07:41:56+00:00</td>\n",
       "      <td>ubahnama77</td>\n",
       "      <td>@BadiNFT @TheHuman_NFT ijin tag @hwangkasa @ju...</td>\n",
       "      <td>@badinft @thehuman_nft ijin tag @hwangkasa @ju...</td>\n",
       "      <td>ijin tag</td>\n",
       "      <td>ijin tag</td>\n",
       "      <td>[ijin, tag]</td>\n",
       "      <td>[ijin, tag]</td>\n",
       "    </tr>\n",
       "    <tr>\n",
       "      <th>9996</th>\n",
       "      <td>2022-04-25 07:41:18+00:00</td>\n",
       "      <td>fullyyongxx</td>\n",
       "      <td>RT @Nikiyagives: $20 | 280K ~ 72hrs\\n\\n• Rt + ...</td>\n",
       "      <td>rt @nikiyagives: $20 | 280k ~ 72hrs\\n\\n• rt + ...</td>\n",
       "      <td>follow</td>\n",
       "      <td>follow</td>\n",
       "      <td>[follow]</td>\n",
       "      <td>[follow]</td>\n",
       "    </tr>\n",
       "    <tr>\n",
       "      <th>9997</th>\n",
       "      <td>2022-04-25 07:41:09+00:00</td>\n",
       "      <td>ayokbigwin01</td>\n",
       "      <td>@furrincrypto @MoneyPals_NFT Done ✔️Allahumma ...</td>\n",
       "      <td>@furrincrypto @moneypals_nft done ✔️allahumma ...</td>\n",
       "      <td>done allahumma sholi ala syayyidina muhammad ...</td>\n",
       "      <td>done allahumma sholi ala syayyidina muhammad b...</td>\n",
       "      <td>[done, allahumma, sholi, ala, syayyidina, muha...</td>\n",
       "      <td>[done, allahumma, sholi, ala, syayyidina, muha...</td>\n",
       "    </tr>\n",
       "    <tr>\n",
       "      <th>9999</th>\n",
       "      <td>2022-04-25 07:40:46+00:00</td>\n",
       "      <td>saCh1_bkNTachik</td>\n",
       "      <td>@NFT_Dispatch @akunaninwangi \\n@0xaprilwinscit...</td>\n",
       "      <td>@nft_dispatch @akunaninwangi \\n@0xaprilwinscit...</td>\n",
       "      <td>maaf ngetag ya kak</td>\n",
       "      <td>maaf ngetag kak</td>\n",
       "      <td>[maaf, ngetag, kak]</td>\n",
       "      <td>[maaf, ngetag, kak]</td>\n",
       "    </tr>\n",
       "  </tbody>\n",
       "</table>\n",
       "<p>7646 rows × 8 columns</p>\n",
       "</div>"
      ],
      "text/plain": [
       "                           Time             User  \\\n",
       "0     2022-04-26 10:48:21+00:00  jeonghancitywin   \n",
       "2     2022-04-26 10:48:09+00:00      sossgirl_cx   \n",
       "3     2022-04-26 10:48:09+00:00    FloLady_Ochie   \n",
       "4     2022-04-26 10:48:09+00:00   unicornart_nft   \n",
       "6     2022-04-26 10:48:08+00:00  Nichole48369046   \n",
       "...                         ...              ...   \n",
       "9993  2022-04-25 07:42:01+00:00   bang_akbar2022   \n",
       "9994  2022-04-25 07:41:56+00:00       ubahnama77   \n",
       "9996  2022-04-25 07:41:18+00:00      fullyyongxx   \n",
       "9997  2022-04-25 07:41:09+00:00     ayokbigwin01   \n",
       "9999  2022-04-25 07:40:46+00:00  saCh1_bkNTachik   \n",
       "\n",
       "                                                 Tweets  \\\n",
       "0     @sof1azara03 @L8YC_NFT bismillahirrahmanirrahi...   \n",
       "2     RT @AreumPromotes: $50 || 700K IDR || 24hrs 🌷\\...   \n",
       "3               @othiliae_nft Astaga shujin, ini holol!   \n",
       "4                               @cyber_yuyu Gm Yuyu! ☀️   \n",
       "6     @abushe7 BdtiQMAL3mpvbvGncmdtakFERCf8dng9eTnY2...   \n",
       "...                                                 ...   \n",
       "9993  @VigoLartes @TeddyBoy_NFT DC rizqi#4738 https:...   \n",
       "9994  @BadiNFT @TheHuman_NFT ijin tag @hwangkasa @ju...   \n",
       "9996  RT @Nikiyagives: $20 | 280K ~ 72hrs\\n\\n• Rt + ...   \n",
       "9997  @furrincrypto @MoneyPals_NFT Done ✔️Allahumma ...   \n",
       "9999  @NFT_Dispatch @akunaninwangi \\n@0xaprilwinscit...   \n",
       "\n",
       "                                               CaseFold  \\\n",
       "0     @sof1azara03 @l8yc_nft bismillahirrahmanirrahi...   \n",
       "2     rt @areumpromotes: $50 || 700k idr || 24hrs 🌷\\...   \n",
       "3               @othiliae_nft astaga shujin, ini holol!   \n",
       "4                               @cyber_yuyu gm yuyu! ☀️   \n",
       "6     @abushe7 bdtiqmal3mpvbvgncmdtakfercf8dng9etny2...   \n",
       "...                                                 ...   \n",
       "9993  @vigolartes @teddyboy_nft dc rizqi#4738 https:...   \n",
       "9994  @badinft @thehuman_nft ijin tag @hwangkasa @ju...   \n",
       "9996  rt @nikiyagives: $20 | 280k ~ 72hrs\\n\\n• rt + ...   \n",
       "9997  @furrincrypto @moneypals_nft done ✔️allahumma ...   \n",
       "9999  @nft_dispatch @akunaninwangi \\n@0xaprilwinscit...   \n",
       "\n",
       "                                              Cleansing  \\\n",
       "0                        bismillahirrahmanirrahim done    \n",
       "2                                   idr rt like follow    \n",
       "3                              astaga shujin ini holol    \n",
       "4                                              gm yuyu    \n",
       "6                                             bdtiqmal    \n",
       "...                                                 ...   \n",
       "9993                                          dc rizqi    \n",
       "9994                                          ijin tag    \n",
       "9996                                            follow    \n",
       "9997   done allahumma sholi ala syayyidina muhammad ...   \n",
       "9999                                maaf ngetag ya kak    \n",
       "\n",
       "                                                  StopW  \\\n",
       "0                         bismillahirrahmanirrahim done   \n",
       "2                                    idr rt like follow   \n",
       "3                                   astaga shujin holol   \n",
       "4                                               gm yuyu   \n",
       "6                                              bdtiqmal   \n",
       "...                                                 ...   \n",
       "9993                                           dc rizqi   \n",
       "9994                                           ijin tag   \n",
       "9996                                             follow   \n",
       "9997  done allahumma sholi ala syayyidina muhammad b...   \n",
       "9999                                    maaf ngetag kak   \n",
       "\n",
       "                                             Tokenizing  \\\n",
       "0                      [bismillahirrahmanirrahim, done]   \n",
       "2                               [idr, rt, like, follow]   \n",
       "3                               [astaga, shujin, holol]   \n",
       "4                                            [gm, yuyu]   \n",
       "6                                            [bdtiqmal]   \n",
       "...                                                 ...   \n",
       "9993                                        [dc, rizqi]   \n",
       "9994                                        [ijin, tag]   \n",
       "9996                                           [follow]   \n",
       "9997  [done, allahumma, sholi, ala, syayyidina, muha...   \n",
       "9999                                [maaf, ngetag, kak]   \n",
       "\n",
       "                                               Stemming  \n",
       "0                      [bismillahirrahmanirrahim, done]  \n",
       "2                               [idr, rt, like, follow]  \n",
       "3                               [astaga, shujin, holol]  \n",
       "4                                            [gm, yuyu]  \n",
       "6                                            [bdtiqmal]  \n",
       "...                                                 ...  \n",
       "9993                                        [dc, rizqi]  \n",
       "9994                                        [ijin, tag]  \n",
       "9996                                           [follow]  \n",
       "9997  [done, allahumma, sholi, ala, syayyidina, muha...  \n",
       "9999                                [maaf, ngetag, kak]  \n",
       "\n",
       "[7646 rows x 8 columns]"
      ]
     },
     "execution_count": 6,
     "metadata": {},
     "output_type": "execute_result"
    }
   ],
   "source": [
    "df"
   ]
  },
  {
   "cell_type": "code",
   "execution_count": 7,
   "id": "6b295b02-a7a7-46f8-8689-137202a5d4f8",
   "metadata": {
    "extensions": {
     "jupyter_dashboards": {
      "version": 1,
      "views": {
       "default_view": {
        "hidden": true
       },
       "grid_default": {
        "col": null,
        "height": 2,
        "hidden": true,
        "row": null,
        "width": 2
       }
      }
     }
    },
    "id": "6b295b02-a7a7-46f8-8689-137202a5d4f8"
   },
   "outputs": [],
   "source": [
    "# Labelling\n",
    "\n",
    "Lpro = dict()\n",
    "\n",
    "import csv\n",
    "with open('labelling/pos.csv', 'r') as csvfile:\n",
    "    reader = csv.reader(csvfile, delimiter=',')\n",
    "    for row in reader:\n",
    "        Lpro[row[0]] = int(row[1])\n",
    "\n",
    "Lkontra = dict()\n",
    "import csv\n",
    "with open('labelling/negs.csv', 'r') as csvfile:\n",
    "    reader = csv.reader(csvfile, delimiter=',')\n",
    "    for row in reader:\n",
    "        Lkontra[row[0]] = int(row[1])\n",
    "        \n",
    "# Memberi Label pada tweet sesuai dengan polarity         \n",
    "def labelling_indo(text):\n",
    "    score = 0\n",
    "    for word in text:\n",
    "        if (word in Lpro):\n",
    "            score = score + Lpro[word]\n",
    "    for word in text:\n",
    "        if (word in Lkontra):\n",
    "            score = score + Lkontra[word]\n",
    "    polarity=''\n",
    "    if (score > 0):\n",
    "        polarity = 'Pro'\n",
    "    elif (score < 0):\n",
    "        polarity = 'Kontra'\n",
    "    else:\n",
    "        polarity = 'Netral'\n",
    "    return score, polarity"
   ]
  },
  {
   "cell_type": "code",
   "execution_count": 8,
   "id": "90c10b01-d8f2-436c-a14a-ae7f1979af87",
   "metadata": {
    "extensions": {
     "jupyter_dashboards": {
      "version": 1,
      "views": {
       "default_view": {
        "col": 0,
        "height": 2,
        "row": 20,
        "width": 12
       },
       "grid_default": {
        "col": null,
        "height": 2,
        "hidden": true,
        "row": null,
        "width": 2
       }
      }
     }
    },
    "id": "90c10b01-d8f2-436c-a14a-ae7f1979af87",
    "outputId": "3f3e5a09-0d60-4603-c2da-57341c218982"
   },
   "outputs": [
    {
     "name": "stdout",
     "output_type": "stream",
     "text": [
      "Netral    5548\n",
      "Pro       1316\n",
      "Kontra     782\n",
      "Name: Label, dtype: int64\n"
     ]
    },
    {
     "data": {
      "text/html": [
       "<div>\n",
       "<style scoped>\n",
       "    .dataframe tbody tr th:only-of-type {\n",
       "        vertical-align: middle;\n",
       "    }\n",
       "\n",
       "    .dataframe tbody tr th {\n",
       "        vertical-align: top;\n",
       "    }\n",
       "\n",
       "    .dataframe thead th {\n",
       "        text-align: right;\n",
       "    }\n",
       "</style>\n",
       "<table border=\"1\" class=\"dataframe\">\n",
       "  <thead>\n",
       "    <tr style=\"text-align: right;\">\n",
       "      <th></th>\n",
       "      <th>Time</th>\n",
       "      <th>User</th>\n",
       "      <th>Tweets</th>\n",
       "      <th>CaseFold</th>\n",
       "      <th>Cleansing</th>\n",
       "      <th>StopW</th>\n",
       "      <th>Tokenizing</th>\n",
       "      <th>Stemming</th>\n",
       "      <th>polarity_score</th>\n",
       "      <th>Label</th>\n",
       "    </tr>\n",
       "  </thead>\n",
       "  <tbody>\n",
       "    <tr>\n",
       "      <th>0</th>\n",
       "      <td>2022-04-26 10:48:21+00:00</td>\n",
       "      <td>jeonghancitywin</td>\n",
       "      <td>@sof1azara03 @L8YC_NFT bismillahirrahmanirrahi...</td>\n",
       "      <td>@sof1azara03 @l8yc_nft bismillahirrahmanirrahi...</td>\n",
       "      <td>bismillahirrahmanirrahim done</td>\n",
       "      <td>bismillahirrahmanirrahim done</td>\n",
       "      <td>[bismillahirrahmanirrahim, done]</td>\n",
       "      <td>[bismillahirrahmanirrahim, done]</td>\n",
       "      <td>0</td>\n",
       "      <td>Netral</td>\n",
       "    </tr>\n",
       "    <tr>\n",
       "      <th>2</th>\n",
       "      <td>2022-04-26 10:48:09+00:00</td>\n",
       "      <td>sossgirl_cx</td>\n",
       "      <td>RT @AreumPromotes: $50 || 700K IDR || 24hrs 🌷\\...</td>\n",
       "      <td>rt @areumpromotes: $50 || 700k idr || 24hrs 🌷\\...</td>\n",
       "      <td>idr rt like follow</td>\n",
       "      <td>idr rt like follow</td>\n",
       "      <td>[idr, rt, like, follow]</td>\n",
       "      <td>[idr, rt, like, follow]</td>\n",
       "      <td>0</td>\n",
       "      <td>Netral</td>\n",
       "    </tr>\n",
       "    <tr>\n",
       "      <th>3</th>\n",
       "      <td>2022-04-26 10:48:09+00:00</td>\n",
       "      <td>FloLady_Ochie</td>\n",
       "      <td>@othiliae_nft Astaga shujin, ini holol!</td>\n",
       "      <td>@othiliae_nft astaga shujin, ini holol!</td>\n",
       "      <td>astaga shujin ini holol</td>\n",
       "      <td>astaga shujin holol</td>\n",
       "      <td>[astaga, shujin, holol]</td>\n",
       "      <td>[astaga, shujin, holol]</td>\n",
       "      <td>-1</td>\n",
       "      <td>Kontra</td>\n",
       "    </tr>\n",
       "    <tr>\n",
       "      <th>4</th>\n",
       "      <td>2022-04-26 10:48:09+00:00</td>\n",
       "      <td>unicornart_nft</td>\n",
       "      <td>@cyber_yuyu Gm Yuyu! ☀️</td>\n",
       "      <td>@cyber_yuyu gm yuyu! ☀️</td>\n",
       "      <td>gm yuyu</td>\n",
       "      <td>gm yuyu</td>\n",
       "      <td>[gm, yuyu]</td>\n",
       "      <td>[gm, yuyu]</td>\n",
       "      <td>0</td>\n",
       "      <td>Netral</td>\n",
       "    </tr>\n",
       "    <tr>\n",
       "      <th>6</th>\n",
       "      <td>2022-04-26 10:48:08+00:00</td>\n",
       "      <td>Nichole48369046</td>\n",
       "      <td>@abushe7 BdtiQMAL3mpvbvGncmdtakFERCf8dng9eTnY2...</td>\n",
       "      <td>@abushe7 bdtiqmal3mpvbvgncmdtakfercf8dng9etny2...</td>\n",
       "      <td>bdtiqmal</td>\n",
       "      <td>bdtiqmal</td>\n",
       "      <td>[bdtiqmal]</td>\n",
       "      <td>[bdtiqmal]</td>\n",
       "      <td>0</td>\n",
       "      <td>Netral</td>\n",
       "    </tr>\n",
       "    <tr>\n",
       "      <th>...</th>\n",
       "      <td>...</td>\n",
       "      <td>...</td>\n",
       "      <td>...</td>\n",
       "      <td>...</td>\n",
       "      <td>...</td>\n",
       "      <td>...</td>\n",
       "      <td>...</td>\n",
       "      <td>...</td>\n",
       "      <td>...</td>\n",
       "      <td>...</td>\n",
       "    </tr>\n",
       "    <tr>\n",
       "      <th>9993</th>\n",
       "      <td>2022-04-25 07:42:01+00:00</td>\n",
       "      <td>bang_akbar2022</td>\n",
       "      <td>@VigoLartes @TeddyBoy_NFT DC rizqi#4738 https:...</td>\n",
       "      <td>@vigolartes @teddyboy_nft dc rizqi#4738 https:...</td>\n",
       "      <td>dc rizqi</td>\n",
       "      <td>dc rizqi</td>\n",
       "      <td>[dc, rizqi]</td>\n",
       "      <td>[dc, rizqi]</td>\n",
       "      <td>0</td>\n",
       "      <td>Netral</td>\n",
       "    </tr>\n",
       "    <tr>\n",
       "      <th>9994</th>\n",
       "      <td>2022-04-25 07:41:56+00:00</td>\n",
       "      <td>ubahnama77</td>\n",
       "      <td>@BadiNFT @TheHuman_NFT ijin tag @hwangkasa @ju...</td>\n",
       "      <td>@badinft @thehuman_nft ijin tag @hwangkasa @ju...</td>\n",
       "      <td>ijin tag</td>\n",
       "      <td>ijin tag</td>\n",
       "      <td>[ijin, tag]</td>\n",
       "      <td>[ijin, tag]</td>\n",
       "      <td>0</td>\n",
       "      <td>Netral</td>\n",
       "    </tr>\n",
       "    <tr>\n",
       "      <th>9996</th>\n",
       "      <td>2022-04-25 07:41:18+00:00</td>\n",
       "      <td>fullyyongxx</td>\n",
       "      <td>RT @Nikiyagives: $20 | 280K ~ 72hrs\\n\\n• Rt + ...</td>\n",
       "      <td>rt @nikiyagives: $20 | 280k ~ 72hrs\\n\\n• rt + ...</td>\n",
       "      <td>follow</td>\n",
       "      <td>follow</td>\n",
       "      <td>[follow]</td>\n",
       "      <td>[follow]</td>\n",
       "      <td>0</td>\n",
       "      <td>Netral</td>\n",
       "    </tr>\n",
       "    <tr>\n",
       "      <th>9997</th>\n",
       "      <td>2022-04-25 07:41:09+00:00</td>\n",
       "      <td>ayokbigwin01</td>\n",
       "      <td>@furrincrypto @MoneyPals_NFT Done ✔️Allahumma ...</td>\n",
       "      <td>@furrincrypto @moneypals_nft done ✔️allahumma ...</td>\n",
       "      <td>done allahumma sholi ala syayyidina muhammad ...</td>\n",
       "      <td>done allahumma sholi ala syayyidina muhammad b...</td>\n",
       "      <td>[done, allahumma, sholi, ala, syayyidina, muha...</td>\n",
       "      <td>[done, allahumma, sholi, ala, syayyidina, muha...</td>\n",
       "      <td>5</td>\n",
       "      <td>Pro</td>\n",
       "    </tr>\n",
       "    <tr>\n",
       "      <th>9999</th>\n",
       "      <td>2022-04-25 07:40:46+00:00</td>\n",
       "      <td>saCh1_bkNTachik</td>\n",
       "      <td>@NFT_Dispatch @akunaninwangi \\n@0xaprilwinscit...</td>\n",
       "      <td>@nft_dispatch @akunaninwangi \\n@0xaprilwinscit...</td>\n",
       "      <td>maaf ngetag ya kak</td>\n",
       "      <td>maaf ngetag kak</td>\n",
       "      <td>[maaf, ngetag, kak]</td>\n",
       "      <td>[maaf, ngetag, kak]</td>\n",
       "      <td>-1</td>\n",
       "      <td>Kontra</td>\n",
       "    </tr>\n",
       "  </tbody>\n",
       "</table>\n",
       "<p>7646 rows × 10 columns</p>\n",
       "</div>"
      ],
      "text/plain": [
       "                           Time             User  \\\n",
       "0     2022-04-26 10:48:21+00:00  jeonghancitywin   \n",
       "2     2022-04-26 10:48:09+00:00      sossgirl_cx   \n",
       "3     2022-04-26 10:48:09+00:00    FloLady_Ochie   \n",
       "4     2022-04-26 10:48:09+00:00   unicornart_nft   \n",
       "6     2022-04-26 10:48:08+00:00  Nichole48369046   \n",
       "...                         ...              ...   \n",
       "9993  2022-04-25 07:42:01+00:00   bang_akbar2022   \n",
       "9994  2022-04-25 07:41:56+00:00       ubahnama77   \n",
       "9996  2022-04-25 07:41:18+00:00      fullyyongxx   \n",
       "9997  2022-04-25 07:41:09+00:00     ayokbigwin01   \n",
       "9999  2022-04-25 07:40:46+00:00  saCh1_bkNTachik   \n",
       "\n",
       "                                                 Tweets  \\\n",
       "0     @sof1azara03 @L8YC_NFT bismillahirrahmanirrahi...   \n",
       "2     RT @AreumPromotes: $50 || 700K IDR || 24hrs 🌷\\...   \n",
       "3               @othiliae_nft Astaga shujin, ini holol!   \n",
       "4                               @cyber_yuyu Gm Yuyu! ☀️   \n",
       "6     @abushe7 BdtiQMAL3mpvbvGncmdtakFERCf8dng9eTnY2...   \n",
       "...                                                 ...   \n",
       "9993  @VigoLartes @TeddyBoy_NFT DC rizqi#4738 https:...   \n",
       "9994  @BadiNFT @TheHuman_NFT ijin tag @hwangkasa @ju...   \n",
       "9996  RT @Nikiyagives: $20 | 280K ~ 72hrs\\n\\n• Rt + ...   \n",
       "9997  @furrincrypto @MoneyPals_NFT Done ✔️Allahumma ...   \n",
       "9999  @NFT_Dispatch @akunaninwangi \\n@0xaprilwinscit...   \n",
       "\n",
       "                                               CaseFold  \\\n",
       "0     @sof1azara03 @l8yc_nft bismillahirrahmanirrahi...   \n",
       "2     rt @areumpromotes: $50 || 700k idr || 24hrs 🌷\\...   \n",
       "3               @othiliae_nft astaga shujin, ini holol!   \n",
       "4                               @cyber_yuyu gm yuyu! ☀️   \n",
       "6     @abushe7 bdtiqmal3mpvbvgncmdtakfercf8dng9etny2...   \n",
       "...                                                 ...   \n",
       "9993  @vigolartes @teddyboy_nft dc rizqi#4738 https:...   \n",
       "9994  @badinft @thehuman_nft ijin tag @hwangkasa @ju...   \n",
       "9996  rt @nikiyagives: $20 | 280k ~ 72hrs\\n\\n• rt + ...   \n",
       "9997  @furrincrypto @moneypals_nft done ✔️allahumma ...   \n",
       "9999  @nft_dispatch @akunaninwangi \\n@0xaprilwinscit...   \n",
       "\n",
       "                                              Cleansing  \\\n",
       "0                        bismillahirrahmanirrahim done    \n",
       "2                                   idr rt like follow    \n",
       "3                              astaga shujin ini holol    \n",
       "4                                              gm yuyu    \n",
       "6                                             bdtiqmal    \n",
       "...                                                 ...   \n",
       "9993                                          dc rizqi    \n",
       "9994                                          ijin tag    \n",
       "9996                                            follow    \n",
       "9997   done allahumma sholi ala syayyidina muhammad ...   \n",
       "9999                                maaf ngetag ya kak    \n",
       "\n",
       "                                                  StopW  \\\n",
       "0                         bismillahirrahmanirrahim done   \n",
       "2                                    idr rt like follow   \n",
       "3                                   astaga shujin holol   \n",
       "4                                               gm yuyu   \n",
       "6                                              bdtiqmal   \n",
       "...                                                 ...   \n",
       "9993                                           dc rizqi   \n",
       "9994                                           ijin tag   \n",
       "9996                                             follow   \n",
       "9997  done allahumma sholi ala syayyidina muhammad b...   \n",
       "9999                                    maaf ngetag kak   \n",
       "\n",
       "                                             Tokenizing  \\\n",
       "0                      [bismillahirrahmanirrahim, done]   \n",
       "2                               [idr, rt, like, follow]   \n",
       "3                               [astaga, shujin, holol]   \n",
       "4                                            [gm, yuyu]   \n",
       "6                                            [bdtiqmal]   \n",
       "...                                                 ...   \n",
       "9993                                        [dc, rizqi]   \n",
       "9994                                        [ijin, tag]   \n",
       "9996                                           [follow]   \n",
       "9997  [done, allahumma, sholi, ala, syayyidina, muha...   \n",
       "9999                                [maaf, ngetag, kak]   \n",
       "\n",
       "                                               Stemming  polarity_score  \\\n",
       "0                      [bismillahirrahmanirrahim, done]               0   \n",
       "2                               [idr, rt, like, follow]               0   \n",
       "3                               [astaga, shujin, holol]              -1   \n",
       "4                                            [gm, yuyu]               0   \n",
       "6                                            [bdtiqmal]               0   \n",
       "...                                                 ...             ...   \n",
       "9993                                        [dc, rizqi]               0   \n",
       "9994                                        [ijin, tag]               0   \n",
       "9996                                           [follow]               0   \n",
       "9997  [done, allahumma, sholi, ala, syayyidina, muha...               5   \n",
       "9999                                [maaf, ngetag, kak]              -1   \n",
       "\n",
       "       Label  \n",
       "0     Netral  \n",
       "2     Netral  \n",
       "3     Kontra  \n",
       "4     Netral  \n",
       "6     Netral  \n",
       "...      ...  \n",
       "9993  Netral  \n",
       "9994  Netral  \n",
       "9996  Netral  \n",
       "9997     Pro  \n",
       "9999  Kontra  \n",
       "\n",
       "[7646 rows x 10 columns]"
      ]
     },
     "execution_count": 8,
     "metadata": {},
     "output_type": "execute_result"
    }
   ],
   "source": [
    "results = df['Stemming'].apply(labelling_indo)\n",
    "results = list(zip(*results))\n",
    "df['polarity_score'] = results[0]\n",
    "df['Label'] = results[1]\n",
    "print(df['Label'].value_counts())\n",
    "df"
   ]
  },
  {
   "cell_type": "code",
   "execution_count": 9,
   "id": "b1746ae7-2158-4bb3-9e9b-95d621f81dfc",
   "metadata": {
    "extensions": {
     "jupyter_dashboards": {
      "version": 1,
      "views": {
       "default_view": {
        "col": 0,
        "height": 2,
        "row": 22,
        "width": 12
       },
       "grid_default": {
        "col": null,
        "height": 2,
        "hidden": true,
        "row": null,
        "width": 2
       }
      }
     }
    },
    "id": "b1746ae7-2158-4bb3-9e9b-95d621f81dfc",
    "outputId": "e9e9b918-f2cd-43de-a891-a36bfaa6be71"
   },
   "outputs": [
    {
     "data": {
      "text/html": [
       "<div>\n",
       "<style scoped>\n",
       "    .dataframe tbody tr th:only-of-type {\n",
       "        vertical-align: middle;\n",
       "    }\n",
       "\n",
       "    .dataframe tbody tr th {\n",
       "        vertical-align: top;\n",
       "    }\n",
       "\n",
       "    .dataframe thead th {\n",
       "        text-align: right;\n",
       "    }\n",
       "</style>\n",
       "<table border=\"1\" class=\"dataframe\">\n",
       "  <thead>\n",
       "    <tr style=\"text-align: right;\">\n",
       "      <th></th>\n",
       "      <th>Time</th>\n",
       "      <th>User</th>\n",
       "      <th>Tweets</th>\n",
       "      <th>CaseFold</th>\n",
       "      <th>Cleansing</th>\n",
       "      <th>StopW</th>\n",
       "      <th>Tokenizing</th>\n",
       "      <th>Stemming</th>\n",
       "      <th>polarity_score</th>\n",
       "      <th>Label</th>\n",
       "      <th>TF</th>\n",
       "    </tr>\n",
       "  </thead>\n",
       "  <tbody>\n",
       "    <tr>\n",
       "      <th>0</th>\n",
       "      <td>2022-04-26 10:48:21+00:00</td>\n",
       "      <td>jeonghancitywin</td>\n",
       "      <td>@sof1azara03 @L8YC_NFT bismillahirrahmanirrahi...</td>\n",
       "      <td>@sof1azara03 @l8yc_nft bismillahirrahmanirrahi...</td>\n",
       "      <td>bismillahirrahmanirrahim done</td>\n",
       "      <td>bismillahirrahmanirrahim done</td>\n",
       "      <td>[bismillahirrahmanirrahim, done]</td>\n",
       "      <td>[bismillahirrahmanirrahim, done]</td>\n",
       "      <td>0</td>\n",
       "      <td>Netral</td>\n",
       "      <td>{'bismillahirrahmanirrahim': 0.5, 'done': 0.5}</td>\n",
       "    </tr>\n",
       "    <tr>\n",
       "      <th>2</th>\n",
       "      <td>2022-04-26 10:48:09+00:00</td>\n",
       "      <td>sossgirl_cx</td>\n",
       "      <td>RT @AreumPromotes: $50 || 700K IDR || 24hrs 🌷\\...</td>\n",
       "      <td>rt @areumpromotes: $50 || 700k idr || 24hrs 🌷\\...</td>\n",
       "      <td>idr rt like follow</td>\n",
       "      <td>idr rt like follow</td>\n",
       "      <td>[idr, rt, like, follow]</td>\n",
       "      <td>[idr, rt, like, follow]</td>\n",
       "      <td>0</td>\n",
       "      <td>Netral</td>\n",
       "      <td>{'idr': 0.25, 'rt': 0.25, 'like': 0.25, 'follo...</td>\n",
       "    </tr>\n",
       "    <tr>\n",
       "      <th>3</th>\n",
       "      <td>2022-04-26 10:48:09+00:00</td>\n",
       "      <td>FloLady_Ochie</td>\n",
       "      <td>@othiliae_nft Astaga shujin, ini holol!</td>\n",
       "      <td>@othiliae_nft astaga shujin, ini holol!</td>\n",
       "      <td>astaga shujin ini holol</td>\n",
       "      <td>astaga shujin holol</td>\n",
       "      <td>[astaga, shujin, holol]</td>\n",
       "      <td>[astaga, shujin, holol]</td>\n",
       "      <td>-1</td>\n",
       "      <td>Kontra</td>\n",
       "      <td>{'astaga': 0.3333333333333333, 'shujin': 0.333...</td>\n",
       "    </tr>\n",
       "    <tr>\n",
       "      <th>4</th>\n",
       "      <td>2022-04-26 10:48:09+00:00</td>\n",
       "      <td>unicornart_nft</td>\n",
       "      <td>@cyber_yuyu Gm Yuyu! ☀️</td>\n",
       "      <td>@cyber_yuyu gm yuyu! ☀️</td>\n",
       "      <td>gm yuyu</td>\n",
       "      <td>gm yuyu</td>\n",
       "      <td>[gm, yuyu]</td>\n",
       "      <td>[gm, yuyu]</td>\n",
       "      <td>0</td>\n",
       "      <td>Netral</td>\n",
       "      <td>{'gm': 0.5, 'yuyu': 0.5}</td>\n",
       "    </tr>\n",
       "    <tr>\n",
       "      <th>6</th>\n",
       "      <td>2022-04-26 10:48:08+00:00</td>\n",
       "      <td>Nichole48369046</td>\n",
       "      <td>@abushe7 BdtiQMAL3mpvbvGncmdtakFERCf8dng9eTnY2...</td>\n",
       "      <td>@abushe7 bdtiqmal3mpvbvgncmdtakfercf8dng9etny2...</td>\n",
       "      <td>bdtiqmal</td>\n",
       "      <td>bdtiqmal</td>\n",
       "      <td>[bdtiqmal]</td>\n",
       "      <td>[bdtiqmal]</td>\n",
       "      <td>0</td>\n",
       "      <td>Netral</td>\n",
       "      <td>{'bdtiqmal': 1.0}</td>\n",
       "    </tr>\n",
       "    <tr>\n",
       "      <th>...</th>\n",
       "      <td>...</td>\n",
       "      <td>...</td>\n",
       "      <td>...</td>\n",
       "      <td>...</td>\n",
       "      <td>...</td>\n",
       "      <td>...</td>\n",
       "      <td>...</td>\n",
       "      <td>...</td>\n",
       "      <td>...</td>\n",
       "      <td>...</td>\n",
       "      <td>...</td>\n",
       "    </tr>\n",
       "    <tr>\n",
       "      <th>9993</th>\n",
       "      <td>2022-04-25 07:42:01+00:00</td>\n",
       "      <td>bang_akbar2022</td>\n",
       "      <td>@VigoLartes @TeddyBoy_NFT DC rizqi#4738 https:...</td>\n",
       "      <td>@vigolartes @teddyboy_nft dc rizqi#4738 https:...</td>\n",
       "      <td>dc rizqi</td>\n",
       "      <td>dc rizqi</td>\n",
       "      <td>[dc, rizqi]</td>\n",
       "      <td>[dc, rizqi]</td>\n",
       "      <td>0</td>\n",
       "      <td>Netral</td>\n",
       "      <td>{'dc': 0.5, 'rizqi': 0.5}</td>\n",
       "    </tr>\n",
       "    <tr>\n",
       "      <th>9994</th>\n",
       "      <td>2022-04-25 07:41:56+00:00</td>\n",
       "      <td>ubahnama77</td>\n",
       "      <td>@BadiNFT @TheHuman_NFT ijin tag @hwangkasa @ju...</td>\n",
       "      <td>@badinft @thehuman_nft ijin tag @hwangkasa @ju...</td>\n",
       "      <td>ijin tag</td>\n",
       "      <td>ijin tag</td>\n",
       "      <td>[ijin, tag]</td>\n",
       "      <td>[ijin, tag]</td>\n",
       "      <td>0</td>\n",
       "      <td>Netral</td>\n",
       "      <td>{'ijin': 0.5, 'tag': 0.5}</td>\n",
       "    </tr>\n",
       "    <tr>\n",
       "      <th>9996</th>\n",
       "      <td>2022-04-25 07:41:18+00:00</td>\n",
       "      <td>fullyyongxx</td>\n",
       "      <td>RT @Nikiyagives: $20 | 280K ~ 72hrs\\n\\n• Rt + ...</td>\n",
       "      <td>rt @nikiyagives: $20 | 280k ~ 72hrs\\n\\n• rt + ...</td>\n",
       "      <td>follow</td>\n",
       "      <td>follow</td>\n",
       "      <td>[follow]</td>\n",
       "      <td>[follow]</td>\n",
       "      <td>0</td>\n",
       "      <td>Netral</td>\n",
       "      <td>{'follow': 1.0}</td>\n",
       "    </tr>\n",
       "    <tr>\n",
       "      <th>9997</th>\n",
       "      <td>2022-04-25 07:41:09+00:00</td>\n",
       "      <td>ayokbigwin01</td>\n",
       "      <td>@furrincrypto @MoneyPals_NFT Done ✔️Allahumma ...</td>\n",
       "      <td>@furrincrypto @moneypals_nft done ✔️allahumma ...</td>\n",
       "      <td>done allahumma sholi ala syayyidina muhammad ...</td>\n",
       "      <td>done allahumma sholi ala syayyidina muhammad b...</td>\n",
       "      <td>[done, allahumma, sholi, ala, syayyidina, muha...</td>\n",
       "      <td>[done, allahumma, sholi, ala, syayyidina, muha...</td>\n",
       "      <td>5</td>\n",
       "      <td>Pro</td>\n",
       "      <td>{'done': 0.1111111111111111, 'allahumma': 0.11...</td>\n",
       "    </tr>\n",
       "    <tr>\n",
       "      <th>9999</th>\n",
       "      <td>2022-04-25 07:40:46+00:00</td>\n",
       "      <td>saCh1_bkNTachik</td>\n",
       "      <td>@NFT_Dispatch @akunaninwangi \\n@0xaprilwinscit...</td>\n",
       "      <td>@nft_dispatch @akunaninwangi \\n@0xaprilwinscit...</td>\n",
       "      <td>maaf ngetag ya kak</td>\n",
       "      <td>maaf ngetag kak</td>\n",
       "      <td>[maaf, ngetag, kak]</td>\n",
       "      <td>[maaf, ngetag, kak]</td>\n",
       "      <td>-1</td>\n",
       "      <td>Kontra</td>\n",
       "      <td>{'maaf': 0.3333333333333333, 'ngetag': 0.33333...</td>\n",
       "    </tr>\n",
       "  </tbody>\n",
       "</table>\n",
       "<p>7646 rows × 11 columns</p>\n",
       "</div>"
      ],
      "text/plain": [
       "                           Time             User  \\\n",
       "0     2022-04-26 10:48:21+00:00  jeonghancitywin   \n",
       "2     2022-04-26 10:48:09+00:00      sossgirl_cx   \n",
       "3     2022-04-26 10:48:09+00:00    FloLady_Ochie   \n",
       "4     2022-04-26 10:48:09+00:00   unicornart_nft   \n",
       "6     2022-04-26 10:48:08+00:00  Nichole48369046   \n",
       "...                         ...              ...   \n",
       "9993  2022-04-25 07:42:01+00:00   bang_akbar2022   \n",
       "9994  2022-04-25 07:41:56+00:00       ubahnama77   \n",
       "9996  2022-04-25 07:41:18+00:00      fullyyongxx   \n",
       "9997  2022-04-25 07:41:09+00:00     ayokbigwin01   \n",
       "9999  2022-04-25 07:40:46+00:00  saCh1_bkNTachik   \n",
       "\n",
       "                                                 Tweets  \\\n",
       "0     @sof1azara03 @L8YC_NFT bismillahirrahmanirrahi...   \n",
       "2     RT @AreumPromotes: $50 || 700K IDR || 24hrs 🌷\\...   \n",
       "3               @othiliae_nft Astaga shujin, ini holol!   \n",
       "4                               @cyber_yuyu Gm Yuyu! ☀️   \n",
       "6     @abushe7 BdtiQMAL3mpvbvGncmdtakFERCf8dng9eTnY2...   \n",
       "...                                                 ...   \n",
       "9993  @VigoLartes @TeddyBoy_NFT DC rizqi#4738 https:...   \n",
       "9994  @BadiNFT @TheHuman_NFT ijin tag @hwangkasa @ju...   \n",
       "9996  RT @Nikiyagives: $20 | 280K ~ 72hrs\\n\\n• Rt + ...   \n",
       "9997  @furrincrypto @MoneyPals_NFT Done ✔️Allahumma ...   \n",
       "9999  @NFT_Dispatch @akunaninwangi \\n@0xaprilwinscit...   \n",
       "\n",
       "                                               CaseFold  \\\n",
       "0     @sof1azara03 @l8yc_nft bismillahirrahmanirrahi...   \n",
       "2     rt @areumpromotes: $50 || 700k idr || 24hrs 🌷\\...   \n",
       "3               @othiliae_nft astaga shujin, ini holol!   \n",
       "4                               @cyber_yuyu gm yuyu! ☀️   \n",
       "6     @abushe7 bdtiqmal3mpvbvgncmdtakfercf8dng9etny2...   \n",
       "...                                                 ...   \n",
       "9993  @vigolartes @teddyboy_nft dc rizqi#4738 https:...   \n",
       "9994  @badinft @thehuman_nft ijin tag @hwangkasa @ju...   \n",
       "9996  rt @nikiyagives: $20 | 280k ~ 72hrs\\n\\n• rt + ...   \n",
       "9997  @furrincrypto @moneypals_nft done ✔️allahumma ...   \n",
       "9999  @nft_dispatch @akunaninwangi \\n@0xaprilwinscit...   \n",
       "\n",
       "                                              Cleansing  \\\n",
       "0                        bismillahirrahmanirrahim done    \n",
       "2                                   idr rt like follow    \n",
       "3                              astaga shujin ini holol    \n",
       "4                                              gm yuyu    \n",
       "6                                             bdtiqmal    \n",
       "...                                                 ...   \n",
       "9993                                          dc rizqi    \n",
       "9994                                          ijin tag    \n",
       "9996                                            follow    \n",
       "9997   done allahumma sholi ala syayyidina muhammad ...   \n",
       "9999                                maaf ngetag ya kak    \n",
       "\n",
       "                                                  StopW  \\\n",
       "0                         bismillahirrahmanirrahim done   \n",
       "2                                    idr rt like follow   \n",
       "3                                   astaga shujin holol   \n",
       "4                                               gm yuyu   \n",
       "6                                              bdtiqmal   \n",
       "...                                                 ...   \n",
       "9993                                           dc rizqi   \n",
       "9994                                           ijin tag   \n",
       "9996                                             follow   \n",
       "9997  done allahumma sholi ala syayyidina muhammad b...   \n",
       "9999                                    maaf ngetag kak   \n",
       "\n",
       "                                             Tokenizing  \\\n",
       "0                      [bismillahirrahmanirrahim, done]   \n",
       "2                               [idr, rt, like, follow]   \n",
       "3                               [astaga, shujin, holol]   \n",
       "4                                            [gm, yuyu]   \n",
       "6                                            [bdtiqmal]   \n",
       "...                                                 ...   \n",
       "9993                                        [dc, rizqi]   \n",
       "9994                                        [ijin, tag]   \n",
       "9996                                           [follow]   \n",
       "9997  [done, allahumma, sholi, ala, syayyidina, muha...   \n",
       "9999                                [maaf, ngetag, kak]   \n",
       "\n",
       "                                               Stemming  polarity_score  \\\n",
       "0                      [bismillahirrahmanirrahim, done]               0   \n",
       "2                               [idr, rt, like, follow]               0   \n",
       "3                               [astaga, shujin, holol]              -1   \n",
       "4                                            [gm, yuyu]               0   \n",
       "6                                            [bdtiqmal]               0   \n",
       "...                                                 ...             ...   \n",
       "9993                                        [dc, rizqi]               0   \n",
       "9994                                        [ijin, tag]               0   \n",
       "9996                                           [follow]               0   \n",
       "9997  [done, allahumma, sholi, ala, syayyidina, muha...               5   \n",
       "9999                                [maaf, ngetag, kak]              -1   \n",
       "\n",
       "       Label                                                 TF  \n",
       "0     Netral     {'bismillahirrahmanirrahim': 0.5, 'done': 0.5}  \n",
       "2     Netral  {'idr': 0.25, 'rt': 0.25, 'like': 0.25, 'follo...  \n",
       "3     Kontra  {'astaga': 0.3333333333333333, 'shujin': 0.333...  \n",
       "4     Netral                           {'gm': 0.5, 'yuyu': 0.5}  \n",
       "6     Netral                                  {'bdtiqmal': 1.0}  \n",
       "...      ...                                                ...  \n",
       "9993  Netral                          {'dc': 0.5, 'rizqi': 0.5}  \n",
       "9994  Netral                          {'ijin': 0.5, 'tag': 0.5}  \n",
       "9996  Netral                                    {'follow': 1.0}  \n",
       "9997     Pro  {'done': 0.1111111111111111, 'allahumma': 0.11...  \n",
       "9999  Kontra  {'maaf': 0.3333333333333333, 'ngetag': 0.33333...  \n",
       "\n",
       "[7646 rows x 11 columns]"
      ]
     },
     "execution_count": 9,
     "metadata": {},
     "output_type": "execute_result"
    }
   ],
   "source": [
    "# Melakukan penghitungan TF (Seberapa sering sebuah kata muncul pada suatu dokumen)\n",
    "\n",
    "def calc_TF(tweet):\n",
    "    TF_dict = {}\n",
    "    for term in tweet:\n",
    "        if term in TF_dict:\n",
    "            TF_dict[term] += 1\n",
    "        else:\n",
    "            TF_dict[term] = 1\n",
    "    for term in TF_dict:\n",
    "        TF_dict[term] = TF_dict[term] / len(tweet)\n",
    "    return TF_dict\n",
    "\n",
    "df[\"TF\"] = df[\"Stemming\"].apply(calc_TF)\n",
    "\n",
    "df"
   ]
  },
  {
   "cell_type": "code",
   "execution_count": 10,
   "id": "9a8d22be-dfd5-4ecd-8faa-81a9617dee79",
   "metadata": {
    "extensions": {
     "jupyter_dashboards": {
      "version": 1,
      "views": {
       "default_view": {
        "hidden": true
       },
       "grid_default": {
        "col": null,
        "height": 2,
        "hidden": true,
        "row": null,
        "width": 2
       }
      }
     }
    },
    "id": "9a8d22be-dfd5-4ecd-8faa-81a9617dee79",
    "tags": []
   },
   "outputs": [],
   "source": [
    "# Melakukan perhitungan DF (Jumlah dokumen yang memuat suatu kata tertentu)\n",
    "def calc_DF(tweet):\n",
    "    count_DF = {}\n",
    "    for document in tweet:\n",
    "        for term in document:\n",
    "            if term in count_DF:\n",
    "                count_DF[term] += 1\n",
    "            else:\n",
    "                count_DF[term] = 1\n",
    "    return count_DF\n",
    "\n",
    "DF = calc_DF(df[\"TF\"])\n",
    "# DF"
   ]
  },
  {
   "cell_type": "code",
   "execution_count": 11,
   "id": "e0941ce9-ba11-47ec-a208-0e374d0045c9",
   "metadata": {
    "extensions": {
     "jupyter_dashboards": {
      "version": 1,
      "views": {
       "default_view": {
        "hidden": true
       },
       "grid_default": {
        "col": null,
        "height": 2,
        "hidden": true,
        "row": null,
        "width": 2
       }
      }
     }
    },
    "id": "e0941ce9-ba11-47ec-a208-0e374d0045c9"
   },
   "outputs": [],
   "source": [
    "import math\n",
    "n_document = len(df)\n",
    "\n",
    "def calc_IDF(__n_document, __DF):\n",
    "    IDF_Dict = {}\n",
    "    for term in __DF:\n",
    "        IDF_Dict[term] = math.log10(__n_document / __DF[term])\n",
    "    return IDF_Dict\n",
    "  \n",
    "IDF = calc_IDF(n_document, DF)"
   ]
  },
  {
   "cell_type": "code",
   "execution_count": 12,
   "id": "3c174307-8a6f-431e-ab37-b4b82305802f",
   "metadata": {
    "extensions": {
     "jupyter_dashboards": {
      "version": 1,
      "views": {
       "default_view": {
        "col": 0,
        "height": 2,
        "row": 32,
        "width": 12
       },
       "grid_default": {
        "col": null,
        "height": 2,
        "hidden": true,
        "row": null,
        "width": 2
       }
      }
     }
    },
    "id": "3c174307-8a6f-431e-ab37-b4b82305802f",
    "outputId": "3f085ae4-4da2-4a9f-bcde-61d73d3c636b"
   },
   "outputs": [
    {
     "data": {
      "text/plain": [
       "0          {'bismillahirrahmanirrahim': 0.5, 'done': 0.5}\n",
       "2       {'idr': 0.25, 'rt': 0.25, 'like': 0.25, 'follo...\n",
       "3       {'astaga': 0.3333333333333333, 'shujin': 0.333...\n",
       "4                                {'gm': 0.5, 'yuyu': 0.5}\n",
       "6                                       {'bdtiqmal': 1.0}\n",
       "                              ...                        \n",
       "9993                            {'dc': 0.5, 'rizqi': 0.5}\n",
       "9994                            {'ijin': 0.5, 'tag': 0.5}\n",
       "9996                                      {'follow': 1.0}\n",
       "9997    {'done': 0.1111111111111111, 'allahumma': 0.11...\n",
       "9999    {'maaf': 0.3333333333333333, 'ngetag': 0.33333...\n",
       "Name: TF, Length: 7646, dtype: object"
      ]
     },
     "execution_count": 12,
     "metadata": {},
     "output_type": "execute_result"
    }
   ],
   "source": [
    "df['TF']"
   ]
  },
  {
   "cell_type": "code",
   "execution_count": 13,
   "id": "26757921-0f20-45a8-9522-57e134c5b550",
   "metadata": {
    "extensions": {
     "jupyter_dashboards": {
      "version": 1,
      "views": {
       "default_view": {
        "hidden": true
       },
       "grid_default": {
        "col": null,
        "height": 2,
        "hidden": true,
        "row": null,
        "width": 2
       }
      }
     }
    },
    "id": "26757921-0f20-45a8-9522-57e134c5b550"
   },
   "outputs": [],
   "source": [
    "# Menghitung TF-IDF\n",
    "def calc_TF_IDF(TF):\n",
    "    TF_IDF_Dict = {}\n",
    "    for key in TF:\n",
    "        TF_IDF_Dict[key] = TF[key] * IDF[key]\n",
    "    return TF_IDF_Dict\n",
    "\n",
    "df[\"TF-IDF\"] = df[\"TF\"].apply(calc_TF_IDF)"
   ]
  },
  {
   "cell_type": "code",
   "execution_count": 14,
   "id": "8d4ab233-bf4d-4c7a-ac35-3d31e1a8fbe4",
   "metadata": {
    "extensions": {
     "jupyter_dashboards": {
      "version": 1,
      "views": {
       "default_view": {
        "col": 0,
        "height": 2,
        "row": 36,
        "width": 12
       },
       "grid_default": {
        "col": null,
        "height": 2,
        "hidden": true,
        "row": null,
        "width": 2
       }
      }
     }
    },
    "id": "8d4ab233-bf4d-4c7a-ac35-3d31e1a8fbe4",
    "outputId": "3683f0a5-f293-4648-ea8c-7b06be9c36b1"
   },
   "outputs": [
    {
     "data": {
      "text/html": [
       "<div>\n",
       "<style scoped>\n",
       "    .dataframe tbody tr th:only-of-type {\n",
       "        vertical-align: middle;\n",
       "    }\n",
       "\n",
       "    .dataframe tbody tr th {\n",
       "        vertical-align: top;\n",
       "    }\n",
       "\n",
       "    .dataframe thead th {\n",
       "        text-align: right;\n",
       "    }\n",
       "</style>\n",
       "<table border=\"1\" class=\"dataframe\">\n",
       "  <thead>\n",
       "    <tr style=\"text-align: right;\">\n",
       "      <th></th>\n",
       "      <th>Time</th>\n",
       "      <th>User</th>\n",
       "      <th>Tweets</th>\n",
       "      <th>CaseFold</th>\n",
       "      <th>Cleansing</th>\n",
       "      <th>StopW</th>\n",
       "      <th>Tokenizing</th>\n",
       "      <th>Stemming</th>\n",
       "      <th>polarity_score</th>\n",
       "      <th>Label</th>\n",
       "      <th>TF</th>\n",
       "      <th>TF-IDF</th>\n",
       "    </tr>\n",
       "  </thead>\n",
       "  <tbody>\n",
       "    <tr>\n",
       "      <th>0</th>\n",
       "      <td>2022-04-26 10:48:21+00:00</td>\n",
       "      <td>jeonghancitywin</td>\n",
       "      <td>@sof1azara03 @L8YC_NFT bismillahirrahmanirrahi...</td>\n",
       "      <td>@sof1azara03 @l8yc_nft bismillahirrahmanirrahi...</td>\n",
       "      <td>bismillahirrahmanirrahim done</td>\n",
       "      <td>bismillahirrahmanirrahim done</td>\n",
       "      <td>[bismillahirrahmanirrahim, done]</td>\n",
       "      <td>[bismillahirrahmanirrahim, done]</td>\n",
       "      <td>0</td>\n",
       "      <td>Netral</td>\n",
       "      <td>{'bismillahirrahmanirrahim': 0.5, 'done': 0.5}</td>\n",
       "      <td>{'bismillahirrahmanirrahim': 0.839657155513542...</td>\n",
       "    </tr>\n",
       "    <tr>\n",
       "      <th>2</th>\n",
       "      <td>2022-04-26 10:48:09+00:00</td>\n",
       "      <td>sossgirl_cx</td>\n",
       "      <td>RT @AreumPromotes: $50 || 700K IDR || 24hrs 🌷\\...</td>\n",
       "      <td>rt @areumpromotes: $50 || 700k idr || 24hrs 🌷\\...</td>\n",
       "      <td>idr rt like follow</td>\n",
       "      <td>idr rt like follow</td>\n",
       "      <td>[idr, rt, like, follow]</td>\n",
       "      <td>[idr, rt, like, follow]</td>\n",
       "      <td>0</td>\n",
       "      <td>Netral</td>\n",
       "      <td>{'idr': 0.25, 'rt': 0.25, 'like': 0.25, 'follo...</td>\n",
       "      <td>{'idr': 0.19346393669465567, 'rt': 0.198029783...</td>\n",
       "    </tr>\n",
       "    <tr>\n",
       "      <th>3</th>\n",
       "      <td>2022-04-26 10:48:09+00:00</td>\n",
       "      <td>FloLady_Ochie</td>\n",
       "      <td>@othiliae_nft Astaga shujin, ini holol!</td>\n",
       "      <td>@othiliae_nft astaga shujin, ini holol!</td>\n",
       "      <td>astaga shujin ini holol</td>\n",
       "      <td>astaga shujin holol</td>\n",
       "      <td>[astaga, shujin, holol]</td>\n",
       "      <td>[astaga, shujin, holol]</td>\n",
       "      <td>-1</td>\n",
       "      <td>Kontra</td>\n",
       "      <td>{'astaga': 0.3333333333333333, 'shujin': 0.333...</td>\n",
       "      <td>{'astaga': 1.1354376796544488, 'shujin': 1.294...</td>\n",
       "    </tr>\n",
       "    <tr>\n",
       "      <th>4</th>\n",
       "      <td>2022-04-26 10:48:09+00:00</td>\n",
       "      <td>unicornart_nft</td>\n",
       "      <td>@cyber_yuyu Gm Yuyu! ☀️</td>\n",
       "      <td>@cyber_yuyu gm yuyu! ☀️</td>\n",
       "      <td>gm yuyu</td>\n",
       "      <td>gm yuyu</td>\n",
       "      <td>[gm, yuyu]</td>\n",
       "      <td>[gm, yuyu]</td>\n",
       "      <td>0</td>\n",
       "      <td>Netral</td>\n",
       "      <td>{'gm': 0.5, 'yuyu': 0.5}</td>\n",
       "      <td>{'gm': 0.7785492163771289, 'yuyu': 1.703156519...</td>\n",
       "    </tr>\n",
       "    <tr>\n",
       "      <th>6</th>\n",
       "      <td>2022-04-26 10:48:08+00:00</td>\n",
       "      <td>Nichole48369046</td>\n",
       "      <td>@abushe7 BdtiQMAL3mpvbvGncmdtakFERCf8dng9eTnY2...</td>\n",
       "      <td>@abushe7 bdtiqmal3mpvbvgncmdtakfercf8dng9etny2...</td>\n",
       "      <td>bdtiqmal</td>\n",
       "      <td>bdtiqmal</td>\n",
       "      <td>[bdtiqmal]</td>\n",
       "      <td>[bdtiqmal]</td>\n",
       "      <td>0</td>\n",
       "      <td>Netral</td>\n",
       "      <td>{'bdtiqmal': 1.0}</td>\n",
       "      <td>{'bdtiqmal': 3.8834342936830093}</td>\n",
       "    </tr>\n",
       "    <tr>\n",
       "      <th>...</th>\n",
       "      <td>...</td>\n",
       "      <td>...</td>\n",
       "      <td>...</td>\n",
       "      <td>...</td>\n",
       "      <td>...</td>\n",
       "      <td>...</td>\n",
       "      <td>...</td>\n",
       "      <td>...</td>\n",
       "      <td>...</td>\n",
       "      <td>...</td>\n",
       "      <td>...</td>\n",
       "      <td>...</td>\n",
       "    </tr>\n",
       "    <tr>\n",
       "      <th>9993</th>\n",
       "      <td>2022-04-25 07:42:01+00:00</td>\n",
       "      <td>bang_akbar2022</td>\n",
       "      <td>@VigoLartes @TeddyBoy_NFT DC rizqi#4738 https:...</td>\n",
       "      <td>@vigolartes @teddyboy_nft dc rizqi#4738 https:...</td>\n",
       "      <td>dc rizqi</td>\n",
       "      <td>dc rizqi</td>\n",
       "      <td>[dc, rizqi]</td>\n",
       "      <td>[dc, rizqi]</td>\n",
       "      <td>0</td>\n",
       "      <td>Netral</td>\n",
       "      <td>{'dc': 0.5, 'rizqi': 0.5}</td>\n",
       "      <td>{'dc': 0.8595407189492861, 'rizqi': 1.79120214...</td>\n",
       "    </tr>\n",
       "    <tr>\n",
       "      <th>9994</th>\n",
       "      <td>2022-04-25 07:41:56+00:00</td>\n",
       "      <td>ubahnama77</td>\n",
       "      <td>@BadiNFT @TheHuman_NFT ijin tag @hwangkasa @ju...</td>\n",
       "      <td>@badinft @thehuman_nft ijin tag @hwangkasa @ju...</td>\n",
       "      <td>ijin tag</td>\n",
       "      <td>ijin tag</td>\n",
       "      <td>[ijin, tag]</td>\n",
       "      <td>[ijin, tag]</td>\n",
       "      <td>0</td>\n",
       "      <td>Netral</td>\n",
       "      <td>{'ijin': 0.5, 'tag': 0.5}</td>\n",
       "      <td>{'ijin': 1.001310350701109, 'tag': 0.939556459...</td>\n",
       "    </tr>\n",
       "    <tr>\n",
       "      <th>9996</th>\n",
       "      <td>2022-04-25 07:41:18+00:00</td>\n",
       "      <td>fullyyongxx</td>\n",
       "      <td>RT @Nikiyagives: $20 | 280K ~ 72hrs\\n\\n• Rt + ...</td>\n",
       "      <td>rt @nikiyagives: $20 | 280k ~ 72hrs\\n\\n• rt + ...</td>\n",
       "      <td>follow</td>\n",
       "      <td>follow</td>\n",
       "      <td>[follow]</td>\n",
       "      <td>[follow]</td>\n",
       "      <td>0</td>\n",
       "      <td>Netral</td>\n",
       "      <td>{'follow': 1.0}</td>\n",
       "      <td>{'follow': 0.6399001918509474}</td>\n",
       "    </tr>\n",
       "    <tr>\n",
       "      <th>9997</th>\n",
       "      <td>2022-04-25 07:41:09+00:00</td>\n",
       "      <td>ayokbigwin01</td>\n",
       "      <td>@furrincrypto @MoneyPals_NFT Done ✔️Allahumma ...</td>\n",
       "      <td>@furrincrypto @moneypals_nft done ✔️allahumma ...</td>\n",
       "      <td>done allahumma sholi ala syayyidina muhammad ...</td>\n",
       "      <td>done allahumma sholi ala syayyidina muhammad b...</td>\n",
       "      <td>[done, allahumma, sholi, ala, syayyidina, muha...</td>\n",
       "      <td>[done, allahumma, sholi, ala, syayyidina, muha...</td>\n",
       "      <td>5</td>\n",
       "      <td>Pro</td>\n",
       "      <td>{'done': 0.1111111111111111, 'allahumma': 0.11...</td>\n",
       "      <td>{'done': 0.13922293540644282, 'allahumma': 0.2...</td>\n",
       "    </tr>\n",
       "    <tr>\n",
       "      <th>9999</th>\n",
       "      <td>2022-04-25 07:40:46+00:00</td>\n",
       "      <td>saCh1_bkNTachik</td>\n",
       "      <td>@NFT_Dispatch @akunaninwangi \\n@0xaprilwinscit...</td>\n",
       "      <td>@nft_dispatch @akunaninwangi \\n@0xaprilwinscit...</td>\n",
       "      <td>maaf ngetag ya kak</td>\n",
       "      <td>maaf ngetag kak</td>\n",
       "      <td>[maaf, ngetag, kak]</td>\n",
       "      <td>[maaf, ngetag, kak]</td>\n",
       "      <td>-1</td>\n",
       "      <td>Kontra</td>\n",
       "      <td>{'maaf': 0.3333333333333333, 'ngetag': 0.33333...</td>\n",
       "      <td>{'maaf': 0.9473472028415948, 'ngetag': 1.19413...</td>\n",
       "    </tr>\n",
       "  </tbody>\n",
       "</table>\n",
       "<p>7646 rows × 12 columns</p>\n",
       "</div>"
      ],
      "text/plain": [
       "                           Time             User  \\\n",
       "0     2022-04-26 10:48:21+00:00  jeonghancitywin   \n",
       "2     2022-04-26 10:48:09+00:00      sossgirl_cx   \n",
       "3     2022-04-26 10:48:09+00:00    FloLady_Ochie   \n",
       "4     2022-04-26 10:48:09+00:00   unicornart_nft   \n",
       "6     2022-04-26 10:48:08+00:00  Nichole48369046   \n",
       "...                         ...              ...   \n",
       "9993  2022-04-25 07:42:01+00:00   bang_akbar2022   \n",
       "9994  2022-04-25 07:41:56+00:00       ubahnama77   \n",
       "9996  2022-04-25 07:41:18+00:00      fullyyongxx   \n",
       "9997  2022-04-25 07:41:09+00:00     ayokbigwin01   \n",
       "9999  2022-04-25 07:40:46+00:00  saCh1_bkNTachik   \n",
       "\n",
       "                                                 Tweets  \\\n",
       "0     @sof1azara03 @L8YC_NFT bismillahirrahmanirrahi...   \n",
       "2     RT @AreumPromotes: $50 || 700K IDR || 24hrs 🌷\\...   \n",
       "3               @othiliae_nft Astaga shujin, ini holol!   \n",
       "4                               @cyber_yuyu Gm Yuyu! ☀️   \n",
       "6     @abushe7 BdtiQMAL3mpvbvGncmdtakFERCf8dng9eTnY2...   \n",
       "...                                                 ...   \n",
       "9993  @VigoLartes @TeddyBoy_NFT DC rizqi#4738 https:...   \n",
       "9994  @BadiNFT @TheHuman_NFT ijin tag @hwangkasa @ju...   \n",
       "9996  RT @Nikiyagives: $20 | 280K ~ 72hrs\\n\\n• Rt + ...   \n",
       "9997  @furrincrypto @MoneyPals_NFT Done ✔️Allahumma ...   \n",
       "9999  @NFT_Dispatch @akunaninwangi \\n@0xaprilwinscit...   \n",
       "\n",
       "                                               CaseFold  \\\n",
       "0     @sof1azara03 @l8yc_nft bismillahirrahmanirrahi...   \n",
       "2     rt @areumpromotes: $50 || 700k idr || 24hrs 🌷\\...   \n",
       "3               @othiliae_nft astaga shujin, ini holol!   \n",
       "4                               @cyber_yuyu gm yuyu! ☀️   \n",
       "6     @abushe7 bdtiqmal3mpvbvgncmdtakfercf8dng9etny2...   \n",
       "...                                                 ...   \n",
       "9993  @vigolartes @teddyboy_nft dc rizqi#4738 https:...   \n",
       "9994  @badinft @thehuman_nft ijin tag @hwangkasa @ju...   \n",
       "9996  rt @nikiyagives: $20 | 280k ~ 72hrs\\n\\n• rt + ...   \n",
       "9997  @furrincrypto @moneypals_nft done ✔️allahumma ...   \n",
       "9999  @nft_dispatch @akunaninwangi \\n@0xaprilwinscit...   \n",
       "\n",
       "                                              Cleansing  \\\n",
       "0                        bismillahirrahmanirrahim done    \n",
       "2                                   idr rt like follow    \n",
       "3                              astaga shujin ini holol    \n",
       "4                                              gm yuyu    \n",
       "6                                             bdtiqmal    \n",
       "...                                                 ...   \n",
       "9993                                          dc rizqi    \n",
       "9994                                          ijin tag    \n",
       "9996                                            follow    \n",
       "9997   done allahumma sholi ala syayyidina muhammad ...   \n",
       "9999                                maaf ngetag ya kak    \n",
       "\n",
       "                                                  StopW  \\\n",
       "0                         bismillahirrahmanirrahim done   \n",
       "2                                    idr rt like follow   \n",
       "3                                   astaga shujin holol   \n",
       "4                                               gm yuyu   \n",
       "6                                              bdtiqmal   \n",
       "...                                                 ...   \n",
       "9993                                           dc rizqi   \n",
       "9994                                           ijin tag   \n",
       "9996                                             follow   \n",
       "9997  done allahumma sholi ala syayyidina muhammad b...   \n",
       "9999                                    maaf ngetag kak   \n",
       "\n",
       "                                             Tokenizing  \\\n",
       "0                      [bismillahirrahmanirrahim, done]   \n",
       "2                               [idr, rt, like, follow]   \n",
       "3                               [astaga, shujin, holol]   \n",
       "4                                            [gm, yuyu]   \n",
       "6                                            [bdtiqmal]   \n",
       "...                                                 ...   \n",
       "9993                                        [dc, rizqi]   \n",
       "9994                                        [ijin, tag]   \n",
       "9996                                           [follow]   \n",
       "9997  [done, allahumma, sholi, ala, syayyidina, muha...   \n",
       "9999                                [maaf, ngetag, kak]   \n",
       "\n",
       "                                               Stemming  polarity_score  \\\n",
       "0                      [bismillahirrahmanirrahim, done]               0   \n",
       "2                               [idr, rt, like, follow]               0   \n",
       "3                               [astaga, shujin, holol]              -1   \n",
       "4                                            [gm, yuyu]               0   \n",
       "6                                            [bdtiqmal]               0   \n",
       "...                                                 ...             ...   \n",
       "9993                                        [dc, rizqi]               0   \n",
       "9994                                        [ijin, tag]               0   \n",
       "9996                                           [follow]               0   \n",
       "9997  [done, allahumma, sholi, ala, syayyidina, muha...               5   \n",
       "9999                                [maaf, ngetag, kak]              -1   \n",
       "\n",
       "       Label                                                 TF  \\\n",
       "0     Netral     {'bismillahirrahmanirrahim': 0.5, 'done': 0.5}   \n",
       "2     Netral  {'idr': 0.25, 'rt': 0.25, 'like': 0.25, 'follo...   \n",
       "3     Kontra  {'astaga': 0.3333333333333333, 'shujin': 0.333...   \n",
       "4     Netral                           {'gm': 0.5, 'yuyu': 0.5}   \n",
       "6     Netral                                  {'bdtiqmal': 1.0}   \n",
       "...      ...                                                ...   \n",
       "9993  Netral                          {'dc': 0.5, 'rizqi': 0.5}   \n",
       "9994  Netral                          {'ijin': 0.5, 'tag': 0.5}   \n",
       "9996  Netral                                    {'follow': 1.0}   \n",
       "9997     Pro  {'done': 0.1111111111111111, 'allahumma': 0.11...   \n",
       "9999  Kontra  {'maaf': 0.3333333333333333, 'ngetag': 0.33333...   \n",
       "\n",
       "                                                 TF-IDF  \n",
       "0     {'bismillahirrahmanirrahim': 0.839657155513542...  \n",
       "2     {'idr': 0.19346393669465567, 'rt': 0.198029783...  \n",
       "3     {'astaga': 1.1354376796544488, 'shujin': 1.294...  \n",
       "4     {'gm': 0.7785492163771289, 'yuyu': 1.703156519...  \n",
       "6                      {'bdtiqmal': 3.8834342936830093}  \n",
       "...                                                 ...  \n",
       "9993  {'dc': 0.8595407189492861, 'rizqi': 1.79120214...  \n",
       "9994  {'ijin': 1.001310350701109, 'tag': 0.939556459...  \n",
       "9996                     {'follow': 0.6399001918509474}  \n",
       "9997  {'done': 0.13922293540644282, 'allahumma': 0.2...  \n",
       "9999  {'maaf': 0.9473472028415948, 'ngetag': 1.19413...  \n",
       "\n",
       "[7646 rows x 12 columns]"
      ]
     },
     "execution_count": 14,
     "metadata": {},
     "output_type": "execute_result"
    }
   ],
   "source": [
    "df"
   ]
  },
  {
   "cell_type": "code",
   "execution_count": 15,
   "id": "910a7b53-a985-4e79-b2e3-38620ed89b0f",
   "metadata": {
    "extensions": {
     "jupyter_dashboards": {
      "version": 1,
      "views": {
       "default_view": {
        "col": 0,
        "height": 2,
        "row": 38,
        "width": 12
       },
       "grid_default": {
        "col": null,
        "height": 2,
        "hidden": true,
        "row": null,
        "width": 2
       }
      }
     }
    },
    "id": "910a7b53-a985-4e79-b2e3-38620ed89b0f",
    "outputId": "59515e2e-107b-4fc1-90e6-c233b50db62f",
    "tags": []
   },
   "outputs": [
    {
     "name": "stdout",
     "output_type": "stream",
     "text": [
      "                Term \t TF \t\t\t TF-IDF\n",
      "\n",
      "bismillahirrahmanirrahim \t 0.5 \t 0.8396571555135423\n",
      "                done \t 0.5 \t 0.6265032093289927\n"
     ]
    }
   ],
   "source": [
    "# Melihat hasil TF-IDF per index\n",
    "index = 0\n",
    "\n",
    "print('%20s' % \"Term\", \"\\t\", \"TF\", \"\\t\\t\\t\", \"TF-IDF\\n\")\n",
    "for key in df[\"TF-IDF\"][index]:\n",
    "    print('%20s' % key, \"\\t\", df[\"TF\"][index][key] ,\"\\t\" , df[\"TF-IDF\"][index][key])\n"
   ]
  },
  {
   "cell_type": "code",
   "execution_count": 16,
   "id": "036942cb-4014-4540-9d1c-4d4826c28b7e",
   "metadata": {
    "extensions": {
     "jupyter_dashboards": {
      "version": 1,
      "views": {
       "default_view": {
        "col": 0,
        "height": 2,
        "row": 40,
        "width": 12
       },
       "grid_default": {
        "col": null,
        "height": 2,
        "hidden": true,
        "row": null,
        "width": 2
       }
      }
     }
    },
    "id": "036942cb-4014-4540-9d1c-4d4826c28b7e",
    "outputId": "f9dc39fb-c186-432d-835f-dcb27d0a6b7c"
   },
   "outputs": [
    {
     "name": "stdout",
     "output_type": "stream",
     "text": [
      "print first row matrix TF_IDF_Vec Series\n",
      "\n",
      "<class 'list'>\n",
      "\n",
      "matrix size :  50\n"
     ]
    },
    {
     "data": {
      "text/html": [
       "<div>\n",
       "<style scoped>\n",
       "    .dataframe tbody tr th:only-of-type {\n",
       "        vertical-align: middle;\n",
       "    }\n",
       "\n",
       "    .dataframe tbody tr th {\n",
       "        vertical-align: top;\n",
       "    }\n",
       "\n",
       "    .dataframe thead th {\n",
       "        text-align: right;\n",
       "    }\n",
       "</style>\n",
       "<table border=\"1\" class=\"dataframe\">\n",
       "  <thead>\n",
       "    <tr style=\"text-align: right;\">\n",
       "      <th></th>\n",
       "      <th>Time</th>\n",
       "      <th>User</th>\n",
       "      <th>Tweets</th>\n",
       "      <th>CaseFold</th>\n",
       "      <th>Cleansing</th>\n",
       "      <th>StopW</th>\n",
       "      <th>Tokenizing</th>\n",
       "      <th>Stemming</th>\n",
       "      <th>polarity_score</th>\n",
       "      <th>Label</th>\n",
       "      <th>TF</th>\n",
       "      <th>TF-IDF</th>\n",
       "      <th>TF_IDF_Vec</th>\n",
       "    </tr>\n",
       "  </thead>\n",
       "  <tbody>\n",
       "    <tr>\n",
       "      <th>0</th>\n",
       "      <td>2022-04-26 10:48:21+00:00</td>\n",
       "      <td>jeonghancitywin</td>\n",
       "      <td>@sof1azara03 @L8YC_NFT bismillahirrahmanirrahi...</td>\n",
       "      <td>@sof1azara03 @l8yc_nft bismillahirrahmanirrahi...</td>\n",
       "      <td>bismillahirrahmanirrahim done</td>\n",
       "      <td>bismillahirrahmanirrahim done</td>\n",
       "      <td>[bismillahirrahmanirrahim, done]</td>\n",
       "      <td>[bismillahirrahmanirrahim, done]</td>\n",
       "      <td>0</td>\n",
       "      <td>Netral</td>\n",
       "      <td>{'bismillahirrahmanirrahim': 0.5, 'done': 0.5}</td>\n",
       "      <td>{'bismillahirrahmanirrahim': 0.839657155513542...</td>\n",
       "      <td>[0.0, 0.0, 0.0, 0.0, 0.0, 0.0, 0.6265032093289...</td>\n",
       "    </tr>\n",
       "    <tr>\n",
       "      <th>2</th>\n",
       "      <td>2022-04-26 10:48:09+00:00</td>\n",
       "      <td>sossgirl_cx</td>\n",
       "      <td>RT @AreumPromotes: $50 || 700K IDR || 24hrs 🌷\\...</td>\n",
       "      <td>rt @areumpromotes: $50 || 700k idr || 24hrs 🌷\\...</td>\n",
       "      <td>idr rt like follow</td>\n",
       "      <td>idr rt like follow</td>\n",
       "      <td>[idr, rt, like, follow]</td>\n",
       "      <td>[idr, rt, like, follow]</td>\n",
       "      <td>0</td>\n",
       "      <td>Netral</td>\n",
       "      <td>{'idr': 0.25, 'rt': 0.25, 'like': 0.25, 'follo...</td>\n",
       "      <td>{'idr': 0.19346393669465567, 'rt': 0.198029783...</td>\n",
       "      <td>[0.15997504796273684, 0.19346393669465567, 0.1...</td>\n",
       "    </tr>\n",
       "    <tr>\n",
       "      <th>3</th>\n",
       "      <td>2022-04-26 10:48:09+00:00</td>\n",
       "      <td>FloLady_Ochie</td>\n",
       "      <td>@othiliae_nft Astaga shujin, ini holol!</td>\n",
       "      <td>@othiliae_nft astaga shujin, ini holol!</td>\n",
       "      <td>astaga shujin ini holol</td>\n",
       "      <td>astaga shujin holol</td>\n",
       "      <td>[astaga, shujin, holol]</td>\n",
       "      <td>[astaga, shujin, holol]</td>\n",
       "      <td>-1</td>\n",
       "      <td>Kontra</td>\n",
       "      <td>{'astaga': 0.3333333333333333, 'shujin': 0.333...</td>\n",
       "      <td>{'astaga': 1.1354376796544488, 'shujin': 1.294...</td>\n",
       "      <td>[0.0, 0.0, 0.0, 0.0, 0.0, 0.0, 0.0, 0.0, 0.0, ...</td>\n",
       "    </tr>\n",
       "    <tr>\n",
       "      <th>4</th>\n",
       "      <td>2022-04-26 10:48:09+00:00</td>\n",
       "      <td>unicornart_nft</td>\n",
       "      <td>@cyber_yuyu Gm Yuyu! ☀️</td>\n",
       "      <td>@cyber_yuyu gm yuyu! ☀️</td>\n",
       "      <td>gm yuyu</td>\n",
       "      <td>gm yuyu</td>\n",
       "      <td>[gm, yuyu]</td>\n",
       "      <td>[gm, yuyu]</td>\n",
       "      <td>0</td>\n",
       "      <td>Netral</td>\n",
       "      <td>{'gm': 0.5, 'yuyu': 0.5}</td>\n",
       "      <td>{'gm': 0.7785492163771289, 'yuyu': 1.703156519...</td>\n",
       "      <td>[0.0, 0.0, 0.0, 0.0, 0.0, 0.0, 0.0, 0.0, 0.0, ...</td>\n",
       "    </tr>\n",
       "    <tr>\n",
       "      <th>6</th>\n",
       "      <td>2022-04-26 10:48:08+00:00</td>\n",
       "      <td>Nichole48369046</td>\n",
       "      <td>@abushe7 BdtiQMAL3mpvbvGncmdtakFERCf8dng9eTnY2...</td>\n",
       "      <td>@abushe7 bdtiqmal3mpvbvgncmdtakfercf8dng9etny2...</td>\n",
       "      <td>bdtiqmal</td>\n",
       "      <td>bdtiqmal</td>\n",
       "      <td>[bdtiqmal]</td>\n",
       "      <td>[bdtiqmal]</td>\n",
       "      <td>0</td>\n",
       "      <td>Netral</td>\n",
       "      <td>{'bdtiqmal': 1.0}</td>\n",
       "      <td>{'bdtiqmal': 3.8834342936830093}</td>\n",
       "      <td>[0.0, 0.0, 0.0, 0.0, 0.0, 0.0, 0.0, 0.0, 0.0, ...</td>\n",
       "    </tr>\n",
       "    <tr>\n",
       "      <th>...</th>\n",
       "      <td>...</td>\n",
       "      <td>...</td>\n",
       "      <td>...</td>\n",
       "      <td>...</td>\n",
       "      <td>...</td>\n",
       "      <td>...</td>\n",
       "      <td>...</td>\n",
       "      <td>...</td>\n",
       "      <td>...</td>\n",
       "      <td>...</td>\n",
       "      <td>...</td>\n",
       "      <td>...</td>\n",
       "      <td>...</td>\n",
       "    </tr>\n",
       "    <tr>\n",
       "      <th>9993</th>\n",
       "      <td>2022-04-25 07:42:01+00:00</td>\n",
       "      <td>bang_akbar2022</td>\n",
       "      <td>@VigoLartes @TeddyBoy_NFT DC rizqi#4738 https:...</td>\n",
       "      <td>@vigolartes @teddyboy_nft dc rizqi#4738 https:...</td>\n",
       "      <td>dc rizqi</td>\n",
       "      <td>dc rizqi</td>\n",
       "      <td>[dc, rizqi]</td>\n",
       "      <td>[dc, rizqi]</td>\n",
       "      <td>0</td>\n",
       "      <td>Netral</td>\n",
       "      <td>{'dc': 0.5, 'rizqi': 0.5}</td>\n",
       "      <td>{'dc': 0.8595407189492861, 'rizqi': 1.79120214...</td>\n",
       "      <td>[0.0, 0.0, 0.0, 0.0, 0.0, 0.0, 0.0, 0.0, 0.0, ...</td>\n",
       "    </tr>\n",
       "    <tr>\n",
       "      <th>9994</th>\n",
       "      <td>2022-04-25 07:41:56+00:00</td>\n",
       "      <td>ubahnama77</td>\n",
       "      <td>@BadiNFT @TheHuman_NFT ijin tag @hwangkasa @ju...</td>\n",
       "      <td>@badinft @thehuman_nft ijin tag @hwangkasa @ju...</td>\n",
       "      <td>ijin tag</td>\n",
       "      <td>ijin tag</td>\n",
       "      <td>[ijin, tag]</td>\n",
       "      <td>[ijin, tag]</td>\n",
       "      <td>0</td>\n",
       "      <td>Netral</td>\n",
       "      <td>{'ijin': 0.5, 'tag': 0.5}</td>\n",
       "      <td>{'ijin': 1.001310350701109, 'tag': 0.939556459...</td>\n",
       "      <td>[0.0, 0.0, 0.0, 0.0, 0.0, 0.0, 0.0, 0.0, 0.0, ...</td>\n",
       "    </tr>\n",
       "    <tr>\n",
       "      <th>9996</th>\n",
       "      <td>2022-04-25 07:41:18+00:00</td>\n",
       "      <td>fullyyongxx</td>\n",
       "      <td>RT @Nikiyagives: $20 | 280K ~ 72hrs\\n\\n• Rt + ...</td>\n",
       "      <td>rt @nikiyagives: $20 | 280k ~ 72hrs\\n\\n• rt + ...</td>\n",
       "      <td>follow</td>\n",
       "      <td>follow</td>\n",
       "      <td>[follow]</td>\n",
       "      <td>[follow]</td>\n",
       "      <td>0</td>\n",
       "      <td>Netral</td>\n",
       "      <td>{'follow': 1.0}</td>\n",
       "      <td>{'follow': 0.6399001918509474}</td>\n",
       "      <td>[0.6399001918509474, 0.0, 0.0, 0.0, 0.0, 0.0, ...</td>\n",
       "    </tr>\n",
       "    <tr>\n",
       "      <th>9997</th>\n",
       "      <td>2022-04-25 07:41:09+00:00</td>\n",
       "      <td>ayokbigwin01</td>\n",
       "      <td>@furrincrypto @MoneyPals_NFT Done ✔️Allahumma ...</td>\n",
       "      <td>@furrincrypto @moneypals_nft done ✔️allahumma ...</td>\n",
       "      <td>done allahumma sholi ala syayyidina muhammad ...</td>\n",
       "      <td>done allahumma sholi ala syayyidina muhammad b...</td>\n",
       "      <td>[done, allahumma, sholi, ala, syayyidina, muha...</td>\n",
       "      <td>[done, allahumma, sholi, ala, syayyidina, muha...</td>\n",
       "      <td>5</td>\n",
       "      <td>Pro</td>\n",
       "      <td>{'done': 0.1111111111111111, 'allahumma': 0.11...</td>\n",
       "      <td>{'done': 0.13922293540644282, 'allahumma': 0.2...</td>\n",
       "      <td>[0.0, 0.0, 0.0, 0.0, 0.0, 0.0, 0.1392229354064...</td>\n",
       "    </tr>\n",
       "    <tr>\n",
       "      <th>9999</th>\n",
       "      <td>2022-04-25 07:40:46+00:00</td>\n",
       "      <td>saCh1_bkNTachik</td>\n",
       "      <td>@NFT_Dispatch @akunaninwangi \\n@0xaprilwinscit...</td>\n",
       "      <td>@nft_dispatch @akunaninwangi \\n@0xaprilwinscit...</td>\n",
       "      <td>maaf ngetag ya kak</td>\n",
       "      <td>maaf ngetag kak</td>\n",
       "      <td>[maaf, ngetag, kak]</td>\n",
       "      <td>[maaf, ngetag, kak]</td>\n",
       "      <td>-1</td>\n",
       "      <td>Kontra</td>\n",
       "      <td>{'maaf': 0.3333333333333333, 'ngetag': 0.33333...</td>\n",
       "      <td>{'maaf': 0.9473472028415948, 'ngetag': 1.19413...</td>\n",
       "      <td>[0.0, 0.0, 0.0, 0.0, 0.0, 0.0, 0.0, 0.0, 0.0, ...</td>\n",
       "    </tr>\n",
       "  </tbody>\n",
       "</table>\n",
       "<p>7646 rows × 13 columns</p>\n",
       "</div>"
      ],
      "text/plain": [
       "                           Time             User  \\\n",
       "0     2022-04-26 10:48:21+00:00  jeonghancitywin   \n",
       "2     2022-04-26 10:48:09+00:00      sossgirl_cx   \n",
       "3     2022-04-26 10:48:09+00:00    FloLady_Ochie   \n",
       "4     2022-04-26 10:48:09+00:00   unicornart_nft   \n",
       "6     2022-04-26 10:48:08+00:00  Nichole48369046   \n",
       "...                         ...              ...   \n",
       "9993  2022-04-25 07:42:01+00:00   bang_akbar2022   \n",
       "9994  2022-04-25 07:41:56+00:00       ubahnama77   \n",
       "9996  2022-04-25 07:41:18+00:00      fullyyongxx   \n",
       "9997  2022-04-25 07:41:09+00:00     ayokbigwin01   \n",
       "9999  2022-04-25 07:40:46+00:00  saCh1_bkNTachik   \n",
       "\n",
       "                                                 Tweets  \\\n",
       "0     @sof1azara03 @L8YC_NFT bismillahirrahmanirrahi...   \n",
       "2     RT @AreumPromotes: $50 || 700K IDR || 24hrs 🌷\\...   \n",
       "3               @othiliae_nft Astaga shujin, ini holol!   \n",
       "4                               @cyber_yuyu Gm Yuyu! ☀️   \n",
       "6     @abushe7 BdtiQMAL3mpvbvGncmdtakFERCf8dng9eTnY2...   \n",
       "...                                                 ...   \n",
       "9993  @VigoLartes @TeddyBoy_NFT DC rizqi#4738 https:...   \n",
       "9994  @BadiNFT @TheHuman_NFT ijin tag @hwangkasa @ju...   \n",
       "9996  RT @Nikiyagives: $20 | 280K ~ 72hrs\\n\\n• Rt + ...   \n",
       "9997  @furrincrypto @MoneyPals_NFT Done ✔️Allahumma ...   \n",
       "9999  @NFT_Dispatch @akunaninwangi \\n@0xaprilwinscit...   \n",
       "\n",
       "                                               CaseFold  \\\n",
       "0     @sof1azara03 @l8yc_nft bismillahirrahmanirrahi...   \n",
       "2     rt @areumpromotes: $50 || 700k idr || 24hrs 🌷\\...   \n",
       "3               @othiliae_nft astaga shujin, ini holol!   \n",
       "4                               @cyber_yuyu gm yuyu! ☀️   \n",
       "6     @abushe7 bdtiqmal3mpvbvgncmdtakfercf8dng9etny2...   \n",
       "...                                                 ...   \n",
       "9993  @vigolartes @teddyboy_nft dc rizqi#4738 https:...   \n",
       "9994  @badinft @thehuman_nft ijin tag @hwangkasa @ju...   \n",
       "9996  rt @nikiyagives: $20 | 280k ~ 72hrs\\n\\n• rt + ...   \n",
       "9997  @furrincrypto @moneypals_nft done ✔️allahumma ...   \n",
       "9999  @nft_dispatch @akunaninwangi \\n@0xaprilwinscit...   \n",
       "\n",
       "                                              Cleansing  \\\n",
       "0                        bismillahirrahmanirrahim done    \n",
       "2                                   idr rt like follow    \n",
       "3                              astaga shujin ini holol    \n",
       "4                                              gm yuyu    \n",
       "6                                             bdtiqmal    \n",
       "...                                                 ...   \n",
       "9993                                          dc rizqi    \n",
       "9994                                          ijin tag    \n",
       "9996                                            follow    \n",
       "9997   done allahumma sholi ala syayyidina muhammad ...   \n",
       "9999                                maaf ngetag ya kak    \n",
       "\n",
       "                                                  StopW  \\\n",
       "0                         bismillahirrahmanirrahim done   \n",
       "2                                    idr rt like follow   \n",
       "3                                   astaga shujin holol   \n",
       "4                                               gm yuyu   \n",
       "6                                              bdtiqmal   \n",
       "...                                                 ...   \n",
       "9993                                           dc rizqi   \n",
       "9994                                           ijin tag   \n",
       "9996                                             follow   \n",
       "9997  done allahumma sholi ala syayyidina muhammad b...   \n",
       "9999                                    maaf ngetag kak   \n",
       "\n",
       "                                             Tokenizing  \\\n",
       "0                      [bismillahirrahmanirrahim, done]   \n",
       "2                               [idr, rt, like, follow]   \n",
       "3                               [astaga, shujin, holol]   \n",
       "4                                            [gm, yuyu]   \n",
       "6                                            [bdtiqmal]   \n",
       "...                                                 ...   \n",
       "9993                                        [dc, rizqi]   \n",
       "9994                                        [ijin, tag]   \n",
       "9996                                           [follow]   \n",
       "9997  [done, allahumma, sholi, ala, syayyidina, muha...   \n",
       "9999                                [maaf, ngetag, kak]   \n",
       "\n",
       "                                               Stemming  polarity_score  \\\n",
       "0                      [bismillahirrahmanirrahim, done]               0   \n",
       "2                               [idr, rt, like, follow]               0   \n",
       "3                               [astaga, shujin, holol]              -1   \n",
       "4                                            [gm, yuyu]               0   \n",
       "6                                            [bdtiqmal]               0   \n",
       "...                                                 ...             ...   \n",
       "9993                                        [dc, rizqi]               0   \n",
       "9994                                        [ijin, tag]               0   \n",
       "9996                                           [follow]               0   \n",
       "9997  [done, allahumma, sholi, ala, syayyidina, muha...               5   \n",
       "9999                                [maaf, ngetag, kak]              -1   \n",
       "\n",
       "       Label                                                 TF  \\\n",
       "0     Netral     {'bismillahirrahmanirrahim': 0.5, 'done': 0.5}   \n",
       "2     Netral  {'idr': 0.25, 'rt': 0.25, 'like': 0.25, 'follo...   \n",
       "3     Kontra  {'astaga': 0.3333333333333333, 'shujin': 0.333...   \n",
       "4     Netral                           {'gm': 0.5, 'yuyu': 0.5}   \n",
       "6     Netral                                  {'bdtiqmal': 1.0}   \n",
       "...      ...                                                ...   \n",
       "9993  Netral                          {'dc': 0.5, 'rizqi': 0.5}   \n",
       "9994  Netral                          {'ijin': 0.5, 'tag': 0.5}   \n",
       "9996  Netral                                    {'follow': 1.0}   \n",
       "9997     Pro  {'done': 0.1111111111111111, 'allahumma': 0.11...   \n",
       "9999  Kontra  {'maaf': 0.3333333333333333, 'ngetag': 0.33333...   \n",
       "\n",
       "                                                 TF-IDF  \\\n",
       "0     {'bismillahirrahmanirrahim': 0.839657155513542...   \n",
       "2     {'idr': 0.19346393669465567, 'rt': 0.198029783...   \n",
       "3     {'astaga': 1.1354376796544488, 'shujin': 1.294...   \n",
       "4     {'gm': 0.7785492163771289, 'yuyu': 1.703156519...   \n",
       "6                      {'bdtiqmal': 3.8834342936830093}   \n",
       "...                                                 ...   \n",
       "9993  {'dc': 0.8595407189492861, 'rizqi': 1.79120214...   \n",
       "9994  {'ijin': 1.001310350701109, 'tag': 0.939556459...   \n",
       "9996                     {'follow': 0.6399001918509474}   \n",
       "9997  {'done': 0.13922293540644282, 'allahumma': 0.2...   \n",
       "9999  {'maaf': 0.9473472028415948, 'ngetag': 1.19413...   \n",
       "\n",
       "                                             TF_IDF_Vec  \n",
       "0     [0.0, 0.0, 0.0, 0.0, 0.0, 0.0, 0.6265032093289...  \n",
       "2     [0.15997504796273684, 0.19346393669465567, 0.1...  \n",
       "3     [0.0, 0.0, 0.0, 0.0, 0.0, 0.0, 0.0, 0.0, 0.0, ...  \n",
       "4     [0.0, 0.0, 0.0, 0.0, 0.0, 0.0, 0.0, 0.0, 0.0, ...  \n",
       "6     [0.0, 0.0, 0.0, 0.0, 0.0, 0.0, 0.0, 0.0, 0.0, ...  \n",
       "...                                                 ...  \n",
       "9993  [0.0, 0.0, 0.0, 0.0, 0.0, 0.0, 0.0, 0.0, 0.0, ...  \n",
       "9994  [0.0, 0.0, 0.0, 0.0, 0.0, 0.0, 0.0, 0.0, 0.0, ...  \n",
       "9996  [0.6399001918509474, 0.0, 0.0, 0.0, 0.0, 0.0, ...  \n",
       "9997  [0.0, 0.0, 0.0, 0.0, 0.0, 0.0, 0.1392229354064...  \n",
       "9999  [0.0, 0.0, 0.0, 0.0, 0.0, 0.0, 0.0, 0.0, 0.0, ...  \n",
       "\n",
       "[7646 rows x 13 columns]"
      ]
     },
     "execution_count": 16,
     "metadata": {},
     "output_type": "execute_result"
    }
   ],
   "source": [
    "# Sort secara descending berdasarkan value dari DF \n",
    "sorted_DF = sorted(DF.items(), key=lambda kv: kv[1], reverse=True)[:50]\n",
    "\n",
    "# Membuat list kata unik dari 'sorted_DF'\n",
    "unique_term = [item[0] for item in sorted_DF]\n",
    "index = 0\n",
    "def calc_TF_IDF_Vec(__TF_IDF_Dict):\n",
    "    TF_IDF_vector = [0.0] * len(unique_term)\n",
    "\n",
    "    for i, term in enumerate(unique_term):\n",
    "        if term in __TF_IDF_Dict:\n",
    "            TF_IDF_vector[i] = __TF_IDF_Dict[term]\n",
    "    return TF_IDF_vector\n",
    "\n",
    "df[\"TF_IDF_Vec\"] = df[\"TF-IDF\"].apply(calc_TF_IDF_Vec)\n",
    "\n",
    "print(\"print first row matrix TF_IDF_Vec Series\\n\")\n",
    "print(type(df[\"TF_IDF_Vec\"][index]))\n",
    "\n",
    "print(\"\\nmatrix size : \", len(df[\"TF_IDF_Vec\"][index]))\n",
    "df"
   ]
  },
  {
   "cell_type": "code",
   "execution_count": 17,
   "id": "d620d862-52a1-4e78-bb23-4f6656d9c9e1",
   "metadata": {
    "extensions": {
     "jupyter_dashboards": {
      "version": 1,
      "views": {
       "default_view": {
        "col": 0,
        "height": 2,
        "row": 46,
        "width": 12
       },
       "grid_default": {
        "col": null,
        "height": 2,
        "hidden": true,
        "row": null,
        "width": 2
       }
      }
     }
    },
    "id": "d620d862-52a1-4e78-bb23-4f6656d9c9e1",
    "outputId": "b34a7750-ce45-404e-ac0b-82f254fd635d"
   },
   "outputs": [
    {
     "data": {
      "text/html": [
       "<div>\n",
       "<style scoped>\n",
       "    .dataframe tbody tr th:only-of-type {\n",
       "        vertical-align: middle;\n",
       "    }\n",
       "\n",
       "    .dataframe tbody tr th {\n",
       "        vertical-align: top;\n",
       "    }\n",
       "\n",
       "    .dataframe thead th {\n",
       "        text-align: right;\n",
       "    }\n",
       "</style>\n",
       "<table border=\"1\" class=\"dataframe\">\n",
       "  <thead>\n",
       "    <tr style=\"text-align: right;\">\n",
       "      <th></th>\n",
       "      <th>0</th>\n",
       "      <th>1</th>\n",
       "      <th>2</th>\n",
       "      <th>3</th>\n",
       "      <th>4</th>\n",
       "      <th>5</th>\n",
       "      <th>6</th>\n",
       "      <th>7</th>\n",
       "      <th>8</th>\n",
       "      <th>9</th>\n",
       "      <th>...</th>\n",
       "      <th>40</th>\n",
       "      <th>41</th>\n",
       "      <th>42</th>\n",
       "      <th>43</th>\n",
       "      <th>44</th>\n",
       "      <th>45</th>\n",
       "      <th>46</th>\n",
       "      <th>47</th>\n",
       "      <th>48</th>\n",
       "      <th>49</th>\n",
       "    </tr>\n",
       "  </thead>\n",
       "  <tbody>\n",
       "    <tr>\n",
       "      <th>0</th>\n",
       "      <td>0.000000</td>\n",
       "      <td>0.000000</td>\n",
       "      <td>0.00000</td>\n",
       "      <td>0.000000</td>\n",
       "      <td>0.0</td>\n",
       "      <td>0.0</td>\n",
       "      <td>0.626503</td>\n",
       "      <td>0.0</td>\n",
       "      <td>0.0</td>\n",
       "      <td>0.000000</td>\n",
       "      <td>...</td>\n",
       "      <td>0.0</td>\n",
       "      <td>0.0</td>\n",
       "      <td>0.0</td>\n",
       "      <td>0.0</td>\n",
       "      <td>0.000000</td>\n",
       "      <td>0.0</td>\n",
       "      <td>0.0</td>\n",
       "      <td>0.0</td>\n",
       "      <td>0.0</td>\n",
       "      <td>0.0</td>\n",
       "    </tr>\n",
       "    <tr>\n",
       "      <th>1</th>\n",
       "      <td>0.159975</td>\n",
       "      <td>0.193464</td>\n",
       "      <td>0.19803</td>\n",
       "      <td>0.199715</td>\n",
       "      <td>0.0</td>\n",
       "      <td>0.0</td>\n",
       "      <td>0.000000</td>\n",
       "      <td>0.0</td>\n",
       "      <td>0.0</td>\n",
       "      <td>0.000000</td>\n",
       "      <td>...</td>\n",
       "      <td>0.0</td>\n",
       "      <td>0.0</td>\n",
       "      <td>0.0</td>\n",
       "      <td>0.0</td>\n",
       "      <td>0.000000</td>\n",
       "      <td>0.0</td>\n",
       "      <td>0.0</td>\n",
       "      <td>0.0</td>\n",
       "      <td>0.0</td>\n",
       "      <td>0.0</td>\n",
       "    </tr>\n",
       "    <tr>\n",
       "      <th>2</th>\n",
       "      <td>0.000000</td>\n",
       "      <td>0.000000</td>\n",
       "      <td>0.00000</td>\n",
       "      <td>0.000000</td>\n",
       "      <td>0.0</td>\n",
       "      <td>0.0</td>\n",
       "      <td>0.000000</td>\n",
       "      <td>0.0</td>\n",
       "      <td>0.0</td>\n",
       "      <td>0.000000</td>\n",
       "      <td>...</td>\n",
       "      <td>0.0</td>\n",
       "      <td>0.0</td>\n",
       "      <td>0.0</td>\n",
       "      <td>0.0</td>\n",
       "      <td>0.000000</td>\n",
       "      <td>0.0</td>\n",
       "      <td>0.0</td>\n",
       "      <td>0.0</td>\n",
       "      <td>0.0</td>\n",
       "      <td>0.0</td>\n",
       "    </tr>\n",
       "    <tr>\n",
       "      <th>3</th>\n",
       "      <td>0.000000</td>\n",
       "      <td>0.000000</td>\n",
       "      <td>0.00000</td>\n",
       "      <td>0.000000</td>\n",
       "      <td>0.0</td>\n",
       "      <td>0.0</td>\n",
       "      <td>0.000000</td>\n",
       "      <td>0.0</td>\n",
       "      <td>0.0</td>\n",
       "      <td>0.778549</td>\n",
       "      <td>...</td>\n",
       "      <td>0.0</td>\n",
       "      <td>0.0</td>\n",
       "      <td>0.0</td>\n",
       "      <td>0.0</td>\n",
       "      <td>0.000000</td>\n",
       "      <td>0.0</td>\n",
       "      <td>0.0</td>\n",
       "      <td>0.0</td>\n",
       "      <td>0.0</td>\n",
       "      <td>0.0</td>\n",
       "    </tr>\n",
       "    <tr>\n",
       "      <th>4</th>\n",
       "      <td>0.000000</td>\n",
       "      <td>0.000000</td>\n",
       "      <td>0.00000</td>\n",
       "      <td>0.000000</td>\n",
       "      <td>0.0</td>\n",
       "      <td>0.0</td>\n",
       "      <td>0.000000</td>\n",
       "      <td>0.0</td>\n",
       "      <td>0.0</td>\n",
       "      <td>0.000000</td>\n",
       "      <td>...</td>\n",
       "      <td>0.0</td>\n",
       "      <td>0.0</td>\n",
       "      <td>0.0</td>\n",
       "      <td>0.0</td>\n",
       "      <td>0.000000</td>\n",
       "      <td>0.0</td>\n",
       "      <td>0.0</td>\n",
       "      <td>0.0</td>\n",
       "      <td>0.0</td>\n",
       "      <td>0.0</td>\n",
       "    </tr>\n",
       "    <tr>\n",
       "      <th>...</th>\n",
       "      <td>...</td>\n",
       "      <td>...</td>\n",
       "      <td>...</td>\n",
       "      <td>...</td>\n",
       "      <td>...</td>\n",
       "      <td>...</td>\n",
       "      <td>...</td>\n",
       "      <td>...</td>\n",
       "      <td>...</td>\n",
       "      <td>...</td>\n",
       "      <td>...</td>\n",
       "      <td>...</td>\n",
       "      <td>...</td>\n",
       "      <td>...</td>\n",
       "      <td>...</td>\n",
       "      <td>...</td>\n",
       "      <td>...</td>\n",
       "      <td>...</td>\n",
       "      <td>...</td>\n",
       "      <td>...</td>\n",
       "      <td>...</td>\n",
       "    </tr>\n",
       "    <tr>\n",
       "      <th>7641</th>\n",
       "      <td>0.000000</td>\n",
       "      <td>0.000000</td>\n",
       "      <td>0.00000</td>\n",
       "      <td>0.000000</td>\n",
       "      <td>0.0</td>\n",
       "      <td>0.0</td>\n",
       "      <td>0.000000</td>\n",
       "      <td>0.0</td>\n",
       "      <td>0.0</td>\n",
       "      <td>0.000000</td>\n",
       "      <td>...</td>\n",
       "      <td>0.0</td>\n",
       "      <td>0.0</td>\n",
       "      <td>0.0</td>\n",
       "      <td>0.0</td>\n",
       "      <td>0.000000</td>\n",
       "      <td>0.0</td>\n",
       "      <td>0.0</td>\n",
       "      <td>0.0</td>\n",
       "      <td>0.0</td>\n",
       "      <td>0.0</td>\n",
       "    </tr>\n",
       "    <tr>\n",
       "      <th>7642</th>\n",
       "      <td>0.000000</td>\n",
       "      <td>0.000000</td>\n",
       "      <td>0.00000</td>\n",
       "      <td>0.000000</td>\n",
       "      <td>0.0</td>\n",
       "      <td>0.0</td>\n",
       "      <td>0.000000</td>\n",
       "      <td>0.0</td>\n",
       "      <td>0.0</td>\n",
       "      <td>0.000000</td>\n",
       "      <td>...</td>\n",
       "      <td>0.0</td>\n",
       "      <td>0.0</td>\n",
       "      <td>0.0</td>\n",
       "      <td>0.0</td>\n",
       "      <td>0.000000</td>\n",
       "      <td>0.0</td>\n",
       "      <td>0.0</td>\n",
       "      <td>0.0</td>\n",
       "      <td>0.0</td>\n",
       "      <td>0.0</td>\n",
       "    </tr>\n",
       "    <tr>\n",
       "      <th>7643</th>\n",
       "      <td>0.639900</td>\n",
       "      <td>0.000000</td>\n",
       "      <td>0.00000</td>\n",
       "      <td>0.000000</td>\n",
       "      <td>0.0</td>\n",
       "      <td>0.0</td>\n",
       "      <td>0.000000</td>\n",
       "      <td>0.0</td>\n",
       "      <td>0.0</td>\n",
       "      <td>0.000000</td>\n",
       "      <td>...</td>\n",
       "      <td>0.0</td>\n",
       "      <td>0.0</td>\n",
       "      <td>0.0</td>\n",
       "      <td>0.0</td>\n",
       "      <td>0.000000</td>\n",
       "      <td>0.0</td>\n",
       "      <td>0.0</td>\n",
       "      <td>0.0</td>\n",
       "      <td>0.0</td>\n",
       "      <td>0.0</td>\n",
       "    </tr>\n",
       "    <tr>\n",
       "      <th>7644</th>\n",
       "      <td>0.000000</td>\n",
       "      <td>0.000000</td>\n",
       "      <td>0.00000</td>\n",
       "      <td>0.000000</td>\n",
       "      <td>0.0</td>\n",
       "      <td>0.0</td>\n",
       "      <td>0.139223</td>\n",
       "      <td>0.0</td>\n",
       "      <td>0.0</td>\n",
       "      <td>0.000000</td>\n",
       "      <td>...</td>\n",
       "      <td>0.0</td>\n",
       "      <td>0.0</td>\n",
       "      <td>0.0</td>\n",
       "      <td>0.0</td>\n",
       "      <td>0.000000</td>\n",
       "      <td>0.0</td>\n",
       "      <td>0.0</td>\n",
       "      <td>0.0</td>\n",
       "      <td>0.0</td>\n",
       "      <td>0.0</td>\n",
       "    </tr>\n",
       "    <tr>\n",
       "      <th>7645</th>\n",
       "      <td>0.000000</td>\n",
       "      <td>0.000000</td>\n",
       "      <td>0.00000</td>\n",
       "      <td>0.000000</td>\n",
       "      <td>0.0</td>\n",
       "      <td>0.0</td>\n",
       "      <td>0.000000</td>\n",
       "      <td>0.0</td>\n",
       "      <td>0.0</td>\n",
       "      <td>0.000000</td>\n",
       "      <td>...</td>\n",
       "      <td>0.0</td>\n",
       "      <td>0.0</td>\n",
       "      <td>0.0</td>\n",
       "      <td>0.0</td>\n",
       "      <td>0.692418</td>\n",
       "      <td>0.0</td>\n",
       "      <td>0.0</td>\n",
       "      <td>0.0</td>\n",
       "      <td>0.0</td>\n",
       "      <td>0.0</td>\n",
       "    </tr>\n",
       "  </tbody>\n",
       "</table>\n",
       "<p>7646 rows × 50 columns</p>\n",
       "</div>"
      ],
      "text/plain": [
       "            0         1        2         3    4    5         6    7    8   \\\n",
       "0     0.000000  0.000000  0.00000  0.000000  0.0  0.0  0.626503  0.0  0.0   \n",
       "1     0.159975  0.193464  0.19803  0.199715  0.0  0.0  0.000000  0.0  0.0   \n",
       "2     0.000000  0.000000  0.00000  0.000000  0.0  0.0  0.000000  0.0  0.0   \n",
       "3     0.000000  0.000000  0.00000  0.000000  0.0  0.0  0.000000  0.0  0.0   \n",
       "4     0.000000  0.000000  0.00000  0.000000  0.0  0.0  0.000000  0.0  0.0   \n",
       "...        ...       ...      ...       ...  ...  ...       ...  ...  ...   \n",
       "7641  0.000000  0.000000  0.00000  0.000000  0.0  0.0  0.000000  0.0  0.0   \n",
       "7642  0.000000  0.000000  0.00000  0.000000  0.0  0.0  0.000000  0.0  0.0   \n",
       "7643  0.639900  0.000000  0.00000  0.000000  0.0  0.0  0.000000  0.0  0.0   \n",
       "7644  0.000000  0.000000  0.00000  0.000000  0.0  0.0  0.139223  0.0  0.0   \n",
       "7645  0.000000  0.000000  0.00000  0.000000  0.0  0.0  0.000000  0.0  0.0   \n",
       "\n",
       "            9   ...   40   41   42   43        44   45   46   47   48   49  \n",
       "0     0.000000  ...  0.0  0.0  0.0  0.0  0.000000  0.0  0.0  0.0  0.0  0.0  \n",
       "1     0.000000  ...  0.0  0.0  0.0  0.0  0.000000  0.0  0.0  0.0  0.0  0.0  \n",
       "2     0.000000  ...  0.0  0.0  0.0  0.0  0.000000  0.0  0.0  0.0  0.0  0.0  \n",
       "3     0.778549  ...  0.0  0.0  0.0  0.0  0.000000  0.0  0.0  0.0  0.0  0.0  \n",
       "4     0.000000  ...  0.0  0.0  0.0  0.0  0.000000  0.0  0.0  0.0  0.0  0.0  \n",
       "...        ...  ...  ...  ...  ...  ...       ...  ...  ...  ...  ...  ...  \n",
       "7641  0.000000  ...  0.0  0.0  0.0  0.0  0.000000  0.0  0.0  0.0  0.0  0.0  \n",
       "7642  0.000000  ...  0.0  0.0  0.0  0.0  0.000000  0.0  0.0  0.0  0.0  0.0  \n",
       "7643  0.000000  ...  0.0  0.0  0.0  0.0  0.000000  0.0  0.0  0.0  0.0  0.0  \n",
       "7644  0.000000  ...  0.0  0.0  0.0  0.0  0.000000  0.0  0.0  0.0  0.0  0.0  \n",
       "7645  0.000000  ...  0.0  0.0  0.0  0.0  0.692418  0.0  0.0  0.0  0.0  0.0  \n",
       "\n",
       "[7646 rows x 50 columns]"
      ]
     },
     "execution_count": 17,
     "metadata": {},
     "output_type": "execute_result"
    }
   ],
   "source": [
    "a = df['TF_IDF_Vec'].to_list()\n",
    "a = np.array(a)\n",
    "a = pd.DataFrame(a)\n",
    "a"
   ]
  },
  {
   "cell_type": "code",
   "execution_count": 18,
   "id": "96d5fa44-1a67-47c2-82ff-a68a3446871c",
   "metadata": {
    "extensions": {
     "jupyter_dashboards": {
      "version": 1,
      "views": {
       "default_view": {
        "hidden": true
       },
       "grid_default": {
        "col": null,
        "height": 2,
        "hidden": true,
        "row": null,
        "width": 2
       }
      }
     }
    },
    "id": "96d5fa44-1a67-47c2-82ff-a68a3446871c"
   },
   "outputs": [],
   "source": [
    "from sklearn.model_selection import train_test_split\n",
    "from sklearn.neighbors import KNeighborsClassifier\n",
    "from sklearn.svm import SVC\n",
    "from sklearn.naive_bayes import GaussianNB\n",
    "\n",
    "from sklearn.model_selection import GridSearchCV\n",
    "from sklearn import svm, datasets\n",
    "\n",
    "from sklearn.naive_bayes import MultinomialNB\n",
    "from sklearn.naive_bayes import BernoulliNB\n",
    "from sklearn.naive_bayes import CategoricalNB\n",
    "from sklearn.naive_bayes import ComplementNB"
   ]
  },
  {
   "cell_type": "code",
   "execution_count": 19,
   "id": "36e33528-67bf-44e2-a06e-8a5942e4af57",
   "metadata": {
    "extensions": {
     "jupyter_dashboards": {
      "version": 1,
      "views": {
       "default_view": {
        "col": 0,
        "height": 2,
        "row": 52,
        "width": 12
       },
       "grid_default": {
        "col": null,
        "height": 2,
        "hidden": true,
        "row": null,
        "width": 2
       }
      }
     }
    },
    "id": "36e33528-67bf-44e2-a06e-8a5942e4af57",
    "outputId": "e0a381a4-bbe4-4725-bf8b-1d484f9d8443",
    "tags": []
   },
   "outputs": [
    {
     "data": {
      "text/plain": [
       "0       Netral\n",
       "2       Netral\n",
       "3       Kontra\n",
       "4       Netral\n",
       "6       Netral\n",
       "         ...  \n",
       "9993    Netral\n",
       "9994    Netral\n",
       "9996    Netral\n",
       "9997       Pro\n",
       "9999    Kontra\n",
       "Name: Label, Length: 7646, dtype: object"
      ]
     },
     "execution_count": 19,
     "metadata": {},
     "output_type": "execute_result"
    }
   ],
   "source": [
    "label = df['Label']\n",
    "label"
   ]
  },
  {
   "cell_type": "code",
   "execution_count": 39,
   "id": "8b8ae39c-db99-43c1-ada6-59e3f2f6a9fe",
   "metadata": {
    "extensions": {
     "jupyter_dashboards": {
      "version": 1,
      "views": {
       "default_view": {
        "hidden": true
       },
       "grid_default": {
        "col": null,
        "height": 2,
        "hidden": true,
        "row": null,
        "width": 2
       }
      }
     }
    },
    "id": "8b8ae39c-db99-43c1-ada6-59e3f2f6a9fe"
   },
   "outputs": [],
   "source": [
    "X_train, X_test, Y_train, Y_test = train_test_split(a, label, test_size = 0.2, random_state = 500)"
   ]
  },
  {
   "cell_type": "code",
   "execution_count": 40,
   "id": "d0938d7b-5aab-4d5e-ba6c-51d3145085cc",
   "metadata": {
    "extensions": {
     "jupyter_dashboards": {
      "version": 1,
      "views": {
       "default_view": {
        "hidden": true
       },
       "grid_default": {
        "col": null,
        "height": 2,
        "hidden": true,
        "row": null,
        "width": 2
       }
      }
     }
    },
    "id": "d0938d7b-5aab-4d5e-ba6c-51d3145085cc"
   },
   "outputs": [],
   "source": [
    "hasil = []\n",
    "for i in range(1, 21):\n",
    "    model = KNeighborsClassifier(n_neighbors = i, weights = 'distance', p = 2)\n",
    "    # model = KNeighborsClassifier(n_neighbors = i)\n",
    "    model.fit(X_train, Y_train)\n",
    "    hasil.append(model.score(X_test, Y_test)*100)"
   ]
  },
  {
   "cell_type": "code",
   "execution_count": 41,
   "id": "f695c7f0-133a-4d2a-8108-b781c997b2bc",
   "metadata": {
    "extensions": {
     "jupyter_dashboards": {
      "version": 1,
      "views": {
       "default_view": {
        "col": 0,
        "height": 2,
        "row": 58,
        "width": 12
       },
       "grid_default": {
        "col": null,
        "height": 2,
        "hidden": true,
        "row": null,
        "width": 2
       }
      }
     }
    },
    "id": "f695c7f0-133a-4d2a-8108-b781c997b2bc",
    "outputId": "1c87cf61-e78e-4102-cb16-8aeb5a574170"
   },
   "outputs": [
    {
     "name": "stdout",
     "output_type": "stream",
     "text": [
      "86.99346405228758\n",
      "3\n"
     ]
    }
   ],
   "source": [
    "print(max(hasil))\n",
    "print(hasil.index(max(hasil)))"
   ]
  },
  {
   "cell_type": "code",
   "execution_count": 42,
   "id": "c707cee0-d8a1-47b8-af54-6dad748c3274",
   "metadata": {
    "extensions": {
     "jupyter_dashboards": {
      "version": 1,
      "views": {
       "default_view": {
        "col": 0,
        "height": 2,
        "row": 60,
        "width": 12
       },
       "grid_default": {
        "col": null,
        "height": 2,
        "hidden": true,
        "row": null,
        "width": 2
       }
      }
     }
    },
    "id": "c707cee0-d8a1-47b8-af54-6dad748c3274",
    "outputId": "7859aaf1-69db-4092-87d2-818ca5dabf4b"
   },
   "outputs": [
    {
     "data": {
      "image/png": "[encoded data removed]",
      "text/plain": [
       "<Figure size 864x576 with 1 Axes>"
      ]
     },
     "metadata": {
      "needs_background": "light"
     },
     "output_type": "display_data"
    }
   ],
   "source": [
    "import matplotlib.pyplot as plt\n",
    "\n",
    "K = list(range(1, len(hasil)+1))\n",
    "plt.rcParams[\"figure.figsize\"] = (12, 8)\n",
    "plt.plot(K, hasil)\n",
    "plt.title('Akurasi KNN\\n', size = 30)\n",
    "plt.xlabel('\\nNilai K', size=30)\n",
    "plt.ylabel('Akurasi\\n', size=30)\n",
    "plt.grid(linestyle=':')\n",
    "# plt.xticks(np.arange(0,len(K)+1, 1), size = 15)\n",
    "plt.xticks(np.arange(0,len(K)+1, 2), size = 15)\n",
    "plt.yticks(np.arange(55, max(hasil)+2, 5), size = 20)\n",
    "plt.show()"
   ]
  },
  {
   "cell_type": "code",
   "execution_count": 43,
   "id": "b824e22e-9ab2-440a-a9ef-7b58fa899667",
   "metadata": {
    "extensions": {
     "jupyter_dashboards": {
      "version": 1,
      "views": {
       "default_view": {
        "col": 0,
        "height": 2,
        "row": 62,
        "width": 12
       },
       "grid_default": {
        "col": null,
        "height": 2,
        "hidden": true,
        "row": null,
        "width": 2
       }
      }
     }
    },
    "id": "b824e22e-9ab2-440a-a9ef-7b58fa899667",
    "outputId": "9bee7c63-c3e9-4793-a8db-9f04f1341424"
   },
   "outputs": [
    {
     "data": {
      "text/plain": [
       "4"
      ]
     },
     "execution_count": 43,
     "metadata": {},
     "output_type": "execute_result"
    }
   ],
   "source": [
    "k = hasil.index(max(hasil))+1\n",
    "k"
   ]
  },
  {
   "cell_type": "code",
   "execution_count": 44,
   "id": "b95a6b40-9185-436a-984c-85f55a4e2559",
   "metadata": {
    "extensions": {
     "jupyter_dashboards": {
      "version": 1,
      "views": {
       "default_view": {
        "col": 0,
        "height": 2,
        "row": 64,
        "width": 12
       },
       "grid_default": {
        "col": null,
        "height": 2,
        "hidden": true,
        "row": null,
        "width": 2
       }
      }
     }
    },
    "id": "b95a6b40-9185-436a-984c-85f55a4e2559",
    "outputId": "34f9a993-6bfa-4bf1-feb0-e574ebaae586"
   },
   "outputs": [
    {
     "data": {
      "text/plain": [
       "[85.55555555555556,\n",
       " 86.01307189542484,\n",
       " 86.60130718954248,\n",
       " 86.99346405228758,\n",
       " 86.86274509803921,\n",
       " 86.9281045751634,\n",
       " 86.73202614379085,\n",
       " 86.9281045751634,\n",
       " 86.86274509803921,\n",
       " 86.9281045751634,\n",
       " 86.86274509803921,\n",
       " 86.79738562091504,\n",
       " 86.79738562091504,\n",
       " 86.86274509803921,\n",
       " 86.79738562091504,\n",
       " 86.99346405228758,\n",
       " 86.9281045751634,\n",
       " 86.9281045751634,\n",
       " 86.9281045751634,\n",
       " 86.9281045751634]"
      ]
     },
     "execution_count": 44,
     "metadata": {},
     "output_type": "execute_result"
    }
   ],
   "source": [
    "hasil"
   ]
  },
  {
   "cell_type": "code",
   "execution_count": 45,
   "id": "dbf98c7d-ec23-428f-afb5-814c590b89a8",
   "metadata": {
    "extensions": {
     "jupyter_dashboards": {
      "version": 1,
      "views": {
       "default_view": {
        "col": 0,
        "height": 2,
        "row": 66,
        "width": 12
       },
       "grid_default": {
        "col": null,
        "height": 2,
        "hidden": true,
        "row": null,
        "width": 2
       }
      }
     }
    },
    "id": "dbf98c7d-ec23-428f-afb5-814c590b89a8",
    "outputId": "431c2bd2-bf11-4e5d-c4b8-cde5e4fd1fb5",
    "tags": []
   },
   "outputs": [
    {
     "name": "stdout",
     "output_type": "stream",
     "text": [
      "86.99 %\n",
      "KNN running time: 0.5669510364532471\n"
     ]
    }
   ],
   "source": [
    "import time\n",
    "start = time.time()\n",
    "final_model = KNeighborsClassifier(n_neighbors = k, weights = 'distance', p = 2).fit(X_train, Y_train)\n",
    "print(\"{:.2f}\".format(final_model.score(X_test, Y_test)*100),\"%\")\n",
    "end = time.time()\n",
    "print(\"KNN running time:\", end-start)"
   ]
  },
  {
   "cell_type": "code",
   "execution_count": 46,
   "id": "68cbb739-83ea-44bc-af00-1dbf9e388740",
   "metadata": {
    "extensions": {
     "jupyter_dashboards": {
      "version": 1,
      "views": {
       "default_view": {
        "hidden": true
       },
       "grid_default": {
        "col": null,
        "height": 2,
        "hidden": true,
        "row": null,
        "width": 2
       }
      }
     }
    },
    "id": "68cbb739-83ea-44bc-af00-1dbf9e388740"
   },
   "outputs": [],
   "source": [
    "x_testing = np.array(X_test)\n",
    "y_testing = np.array(Y_test)"
   ]
  },
  {
   "cell_type": "code",
   "execution_count": 47,
   "id": "be129110-8e66-4625-b652-175d655df2df",
   "metadata": {
    "extensions": {
     "jupyter_dashboards": {
      "version": 1,
      "views": {
       "default_view": {
        "col": 0,
        "height": 2,
        "row": 70,
        "width": 12
       },
       "grid_default": {
        "col": null,
        "height": 2,
        "hidden": true,
        "row": null,
        "width": 2
       }
      }
     }
    },
    "id": "be129110-8e66-4625-b652-175d655df2df",
    "outputId": "1576ba43-7859-4e16-dd46-4797607caee7"
   },
   "outputs": [
    {
     "data": {
      "text/plain": [
       "'Netral'"
      ]
     },
     "execution_count": 47,
     "metadata": {},
     "output_type": "execute_result"
    }
   ],
   "source": [
    "y_testing[9]"
   ]
  },
  {
   "cell_type": "code",
   "execution_count": 48,
   "id": "3cc23cd8-7e2f-469c-b621-5834569c534d",
   "metadata": {
    "extensions": {
     "jupyter_dashboards": {
      "version": 1,
      "views": {
       "default_view": {
        "col": 0,
        "height": 2,
        "row": 72,
        "width": 12
       },
       "grid_default": {
        "col": null,
        "height": 2,
        "hidden": true,
        "row": null,
        "width": 2
       }
      }
     }
    },
    "id": "3cc23cd8-7e2f-469c-b621-5834569c534d",
    "outputId": "ee329481-4fe7-4fdc-c3a7-3e9f9e558848"
   },
   "outputs": [
    {
     "data": {
      "text/plain": [
       "array(['Netral'], dtype=object)"
      ]
     },
     "execution_count": 48,
     "metadata": {},
     "output_type": "execute_result"
    }
   ],
   "source": [
    "final_model.predict(x_testing[9].reshape(1, -1))"
   ]
  },
  {
   "cell_type": "code",
   "execution_count": 49,
   "id": "ab79c015-a5e1-4c50-ae21-729a154c5c04",
   "metadata": {
    "extensions": {
     "jupyter_dashboards": {
      "version": 1,
      "views": {
       "default_view": {
        "hidden": true
       },
       "grid_default": {
        "col": null,
        "height": 2,
        "hidden": true,
        "row": null,
        "width": 2
       }
      }
     }
    },
    "id": "ab79c015-a5e1-4c50-ae21-729a154c5c04"
   },
   "outputs": [],
   "source": [
    "y_pred = final_model.predict(X_test)"
   ]
  },
  {
   "cell_type": "code",
   "execution_count": 50,
   "id": "b410bb4f-2f6f-4318-b80e-b6b56ef9e7dc",
   "metadata": {
    "extensions": {
     "jupyter_dashboards": {
      "version": 1,
      "views": {
       "default_view": {
        "col": 0,
        "height": 2,
        "row": 80,
        "width": 12
       },
       "grid_default": {
        "col": null,
        "height": 2,
        "hidden": true,
        "row": null,
        "width": 2
       }
      }
     }
    },
    "id": "b410bb4f-2f6f-4318-b80e-b6b56ef9e7dc",
    "outputId": "a4aa19ac-5578-47e6-913d-f62f166fee4f"
   },
   "outputs": [
    {
     "data": {
      "image/png": "[encoded data removed]",
      "text/plain": [
       "<Figure size 864x576 with 2 Axes>"
      ]
     },
     "metadata": {
      "needs_background": "light"
     },
     "output_type": "display_data"
    },
    {
     "name": "stdout",
     "output_type": "stream",
     "text": [
      "\n",
      "\n",
      "              precision    recall  f1-score   support\n",
      "\n",
      "      Kontra       0.73      0.41      0.53       128\n",
      "      Netral       0.87      0.98      0.92      1135\n",
      "         Pro       0.91      0.60      0.73       267\n",
      "\n",
      "    accuracy                           0.87      1530\n",
      "   macro avg       0.84      0.67      0.73      1530\n",
      "weighted avg       0.87      0.87      0.86      1530\n",
      "\n",
      "Total Akurasi:  86.99 %\n",
      "Error Rate   :  13.01 %\n"
     ]
    }
   ],
   "source": [
    "import seaborn as sn\n",
    "from sklearn.metrics import classification_report, confusion_matrix \n",
    "from sklearn.metrics import ConfusionMatrixDisplay\n",
    "TA = max(hasil)\n",
    "ER = (100 - TA)\n",
    "\n",
    "plt.rcParams.update({'font.size': 20})\n",
    "ConfusionMatrixDisplay.from_predictions(Y_test, y_pred, cmap = \"Greens\")\n",
    "plt.title(\"Confusion Matrix\", fontsize = 24, pad = 25)\n",
    "plt.ylabel('True label', fontsize = 22, labelpad=20, style= \"oblique\")\n",
    "plt.xlabel('Predicted label', fontsize = 22, labelpad=20, style=\"oblique\")\n",
    "\n",
    "plt.show()\n",
    "\n",
    "print(\"\\n\") \n",
    "print(classification_report(Y_test, y_pred))\n",
    "print(\"Total Akurasi: \", \"{:.2f}\".format(TA),\"%\")\n",
    "print(\"Error Rate   : \", \"{:.2f}\".format(ER),\"%\")"
   ]
  },
  {
   "cell_type": "code",
   "execution_count": 51,
   "id": "94ccf390-8a6d-4f98-9e2e-9b488c0e656d",
   "metadata": {
    "extensions": {
     "jupyter_dashboards": {
      "version": 1,
      "views": {
       "default_view": {
        "col": 0,
        "height": 2,
        "row": 82,
        "width": 12
       },
       "grid_default": {
        "col": null,
        "height": 2,
        "hidden": true,
        "row": null,
        "width": 2
       }
      }
     }
    },
    "id": "94ccf390-8a6d-4f98-9e2e-9b488c0e656d",
    "outputId": "908e6d7b-7ddd-497c-ffc6-6c3b7b85c139",
    "tags": []
   },
   "outputs": [
    {
     "data": {
      "text/html": [
       "<div>\n",
       "<style scoped>\n",
       "    .dataframe tbody tr th:only-of-type {\n",
       "        vertical-align: middle;\n",
       "    }\n",
       "\n",
       "    .dataframe tbody tr th {\n",
       "        vertical-align: top;\n",
       "    }\n",
       "\n",
       "    .dataframe thead th {\n",
       "        text-align: right;\n",
       "    }\n",
       "</style>\n",
       "<table border=\"1\" class=\"dataframe\">\n",
       "  <thead>\n",
       "    <tr style=\"text-align: right;\">\n",
       "      <th></th>\n",
       "      <th>SVM Kernel</th>\n",
       "      <th>Time (s)</th>\n",
       "      <th>Accuracy</th>\n",
       "    </tr>\n",
       "  </thead>\n",
       "  <tbody>\n",
       "    <tr>\n",
       "      <th>0</th>\n",
       "      <td>RBF</td>\n",
       "      <td>1.179752</td>\n",
       "      <td>85.42</td>\n",
       "    </tr>\n",
       "    <tr>\n",
       "      <th>1</th>\n",
       "      <td>Poly</td>\n",
       "      <td>0.824496</td>\n",
       "      <td>83.01</td>\n",
       "    </tr>\n",
       "    <tr>\n",
       "      <th>2</th>\n",
       "      <td>Linear</td>\n",
       "      <td>0.828256</td>\n",
       "      <td>83.92</td>\n",
       "    </tr>\n",
       "    <tr>\n",
       "      <th>3</th>\n",
       "      <td>Sigmoid</td>\n",
       "      <td>0.834865</td>\n",
       "      <td>81.24</td>\n",
       "    </tr>\n",
       "  </tbody>\n",
       "</table>\n",
       "</div>"
      ],
      "text/plain": [
       "  SVM Kernel  Time (s) Accuracy\n",
       "0        RBF  1.179752    85.42\n",
       "1       Poly  0.824496    83.01\n",
       "2     Linear  0.828256    83.92\n",
       "3    Sigmoid  0.834865    81.24"
      ]
     },
     "execution_count": 51,
     "metadata": {},
     "output_type": "execute_result"
    }
   ],
   "source": [
    "# SVM\n",
    "kernel = ['rbf', 'poly', 'linear', 'sigmoid']\n",
    "hasil_kernel = []\n",
    "kernel_time = []\n",
    "for u in kernel:\n",
    "    start = time.time()\n",
    "    svm_model = SVC(kernel = u).fit(X_train, Y_train)\n",
    "    end = time.time()\n",
    "    hasil_kernel.append(\"{:.2f}\".format(svm_model.score(X_test, Y_test)*100))\n",
    "    kernel_time.append(end-start)\n",
    "\n",
    "kernel = ['RBF', 'Poly', 'Linear', 'Sigmoid']\n",
    "desc = ['Accuracy', 'Time(s)']\n",
    "data = [hasil_kernel, kernel_time]\n",
    "data = {\"SVM Kernel\":kernel,\n",
    "        \"Time (s)\":kernel_time,\n",
    "        \"Accuracy\":hasil_kernel}\n",
    "best_kernel =  pd.DataFrame(data)\n",
    "best_kernel"
   ]
  },
  {
   "cell_type": "code",
   "execution_count": 52,
   "id": "1b7dcdf3-4a09-44b4-89c3-26922e429463",
   "metadata": {},
   "outputs": [],
   "source": [
    "# best_kernel.to_csv('asli/SVM_Kernel.csv',encoding='utf8', index=False)"
   ]
  },
  {
   "cell_type": "code",
   "execution_count": 53,
   "id": "dbe9c398-11a8-4708-be76-754e92f3eab6",
   "metadata": {
    "extensions": {
     "jupyter_dashboards": {
      "version": 1,
      "views": {
       "default_view": {
        "col": 0,
        "height": 2,
        "row": 84,
        "width": 12
       },
       "grid_default": {
        "col": null,
        "height": 2,
        "hidden": true,
        "row": null,
        "width": 2
       }
      }
     }
    },
    "id": "dbe9c398-11a8-4708-be76-754e92f3eab6",
    "outputId": "66b428df-1e23-48ae-f5c7-9e27f01002d6"
   },
   "outputs": [
    {
     "data": {
      "image/png": "[encoded data removed]",
      "text/plain": [
       "<Figure size 864x576 with 2 Axes>"
      ]
     },
     "metadata": {
      "needs_background": "light"
     },
     "output_type": "display_data"
    },
    {
     "name": "stdout",
     "output_type": "stream",
     "text": [
      "\n",
      "\n",
      "              precision    recall  f1-score   support\n",
      "\n",
      "      Kontra       0.79      0.21      0.33       128\n",
      "      Netral       0.81      0.97      0.89      1135\n",
      "         Pro       0.79      0.42      0.55       267\n",
      "\n",
      "    accuracy                           0.81      1530\n",
      "   macro avg       0.80      0.53      0.59      1530\n",
      "weighted avg       0.81      0.81      0.78      1530\n",
      "\n"
     ]
    }
   ],
   "source": [
    "# svm_model = SVC(kernel = ).fit(X_train, Y_train)\n",
    "pred_y = svm_model.predict(X_test)\n",
    "ConfusionMatrixDisplay.from_predictions(Y_test, pred_y, cmap = \"Greens\")\n",
    "plt.title(\"Confusion Matrix\", fontsize = 24, pad = 25)\n",
    "plt.ylabel('True label', fontsize = 22, labelpad=20, style= \"oblique\")\n",
    "plt.xlabel('Predicted label', fontsize = 22, labelpad=20, style=\"oblique\")\n",
    "\n",
    "plt.show()\n",
    "\n",
    "print(\"\\n\") \n",
    "print(classification_report(Y_test, pred_y))"
   ]
  },
  {
   "cell_type": "code",
   "execution_count": 54,
   "id": "4e2d78b2-3efa-4731-ba3b-c87abf57a688",
   "metadata": {
    "extensions": {
     "jupyter_dashboards": {
      "version": 1,
      "views": {
       "default_view": {
        "col": 0,
        "height": 2,
        "row": 86,
        "width": 12
       },
       "grid_default": {
        "col": null,
        "height": 2,
        "hidden": true,
        "row": null,
        "width": 2
       }
      }
     }
    },
    "id": "4e2d78b2-3efa-4731-ba3b-c87abf57a688",
    "outputId": "b0e59de2-b28e-4d54-b990-3a9af1b41628",
    "tags": []
   },
   "outputs": [
    {
     "data": {
      "text/html": [
       "<div>\n",
       "<style scoped>\n",
       "    .dataframe tbody tr th:only-of-type {\n",
       "        vertical-align: middle;\n",
       "    }\n",
       "\n",
       "    .dataframe tbody tr th {\n",
       "        vertical-align: top;\n",
       "    }\n",
       "\n",
       "    .dataframe thead th {\n",
       "        text-align: right;\n",
       "    }\n",
       "</style>\n",
       "<table border=\"1\" class=\"dataframe\">\n",
       "  <thead>\n",
       "    <tr style=\"text-align: right;\">\n",
       "      <th></th>\n",
       "      <th>NB Model</th>\n",
       "      <th>Time (s)</th>\n",
       "      <th>Accuracy</th>\n",
       "    </tr>\n",
       "  </thead>\n",
       "  <tbody>\n",
       "    <tr>\n",
       "      <th>0</th>\n",
       "      <td>Gaussian</td>\n",
       "      <td>0.063004</td>\n",
       "      <td>84.58</td>\n",
       "    </tr>\n",
       "    <tr>\n",
       "      <th>1</th>\n",
       "      <td>Multinomial</td>\n",
       "      <td>0.116014</td>\n",
       "      <td>83.40</td>\n",
       "    </tr>\n",
       "    <tr>\n",
       "      <th>2</th>\n",
       "      <td>Bernoulli</td>\n",
       "      <td>0.118008</td>\n",
       "      <td>82.55</td>\n",
       "    </tr>\n",
       "    <tr>\n",
       "      <th>3</th>\n",
       "      <td>Complement</td>\n",
       "      <td>0.121011</td>\n",
       "      <td>59.02</td>\n",
       "    </tr>\n",
       "  </tbody>\n",
       "</table>\n",
       "</div>"
      ],
      "text/plain": [
       "      NB Model  Time (s) Accuracy\n",
       "0     Gaussian  0.063004    84.58\n",
       "1  Multinomial  0.116014    83.40\n",
       "2    Bernoulli  0.118008    82.55\n",
       "3   Complement  0.121011    59.02"
      ]
     },
     "execution_count": 54,
     "metadata": {},
     "output_type": "execute_result"
    }
   ],
   "source": [
    "# Naive Bayes\n",
    "\n",
    "nb_model = [GaussianNB, MultinomialNB, BernoulliNB, ComplementNB]\n",
    "hasil_nb = []\n",
    "nb_time = []\n",
    "for u in nb_model:\n",
    "    start = time.time()\n",
    "    nb = u().fit(X_train, Y_train)\n",
    "    end = time.time()\n",
    "    hasil_nb.append(\"{:.2f}\".format(nb.score(X_test, Y_test)*100))\n",
    "    nb_time.append(end-start)\n",
    "    \n",
    "nb_model = ['Gaussian', 'Multinomial', 'Bernoulli', 'Complement']\n",
    "# desc = ['Accuracy', 'Time (s)']\n",
    "data = {\"NB Model\":nb_model,\n",
    "        \"Time (s)\":nb_time,\n",
    "        \"Accuracy\":hasil_nb}\n",
    "best_nb =  pd.DataFrame(data)\n",
    "# best_nb = best_nb.astype({\"Unit_Price\": float})\n",
    "best_nb"
   ]
  },
  {
   "cell_type": "code",
   "execution_count": 36,
   "id": "336324dc-beaf-4620-8bf1-d948397e88c8",
   "metadata": {
    "extensions": {
     "jupyter_dashboards": {
      "version": 1,
      "views": {
       "default_view": {
        "col": 0,
        "height": 2,
        "row": 88,
        "width": 12
       },
       "grid_default": {
        "col": null,
        "height": 2,
        "hidden": true,
        "row": null,
        "width": 2
       }
      }
     }
    },
    "id": "336324dc-beaf-4620-8bf1-d948397e88c8",
    "outputId": "485f7030-9d73-47d1-d60a-a73f44ba0183"
   },
   "outputs": [
    {
     "data": {
      "image/png": "[encoded data removed]",
      "text/plain": [
       "<Figure size 864x576 with 2 Axes>"
      ]
     },
     "metadata": {
      "needs_background": "light"
     },
     "output_type": "display_data"
    },
    {
     "name": "stdout",
     "output_type": "stream",
     "text": [
      "\n",
      "\n",
      "              precision    recall  f1-score   support\n",
      "\n",
      "      Kontra       0.17      0.86      0.29        65\n",
      "      Netral       0.95      0.59      0.73       559\n",
      "         Pro       0.80      0.53      0.64       141\n",
      "\n",
      "    accuracy                           0.60       765\n",
      "   macro avg       0.64      0.66      0.55       765\n",
      "weighted avg       0.86      0.60      0.67       765\n",
      "\n"
     ]
    }
   ],
   "source": [
    "pred = nb.predict(X_test)\n",
    "ConfusionMatrixDisplay.from_predictions(Y_test, pred, cmap = \"Greens\")\n",
    "plt.title(\"Confusion Matrix\", fontsize = 24, pad = 25)\n",
    "plt.ylabel('True label', fontsize = 22, labelpad=20, style= \"oblique\")\n",
    "plt.xlabel('Predicted label', fontsize = 22, labelpad=20, style=\"oblique\")\n",
    "\n",
    "plt.show()\n",
    "\n",
    "print(\"\\n\") \n",
    "print(classification_report(Y_test, pred))"
   ]
  },
  {
   "cell_type": "code",
   "execution_count": 37,
   "id": "291d80a8-9f5a-4ae0-83ce-bab416d6a586",
   "metadata": {
    "extensions": {
     "jupyter_dashboards": {
      "activeView": "grid_default",
      "views": {
       "grid_default": {
        "col": null,
        "height": 2,
        "hidden": true,
        "row": null,
        "width": 2
       }
      }
     }
    }
   },
   "outputs": [],
   "source": [
    "parameters = {'kernel':('linear', 'rbf', 'poly','sigmoid')}\n",
    "svc = svm.SVC()\n",
    "grid_search = GridSearchCV(svc, parameters, cv=10).fit(a, label)"
   ]
  },
  {
   "cell_type": "code",
   "execution_count": 38,
   "id": "73a2bc49-4202-4d48-a06b-8df7ec826906",
   "metadata": {
    "extensions": {
     "jupyter_dashboards": {
      "activeView": "grid_default",
      "views": {
       "grid_default": {
        "col": null,
        "height": 2,
        "hidden": true,
        "row": null,
        "width": 2
       }
      }
     }
    }
   },
   "outputs": [
    {
     "data": {
      "text/html": [
       "<div>\n",
       "<style scoped>\n",
       "    .dataframe tbody tr th:only-of-type {\n",
       "        vertical-align: middle;\n",
       "    }\n",
       "\n",
       "    .dataframe tbody tr th {\n",
       "        vertical-align: top;\n",
       "    }\n",
       "\n",
       "    .dataframe thead th {\n",
       "        text-align: right;\n",
       "    }\n",
       "</style>\n",
       "<table border=\"1\" class=\"dataframe\">\n",
       "  <thead>\n",
       "    <tr style=\"text-align: right;\">\n",
       "      <th></th>\n",
       "      <th>mean_fit_time</th>\n",
       "      <th>std_fit_time</th>\n",
       "      <th>mean_score_time</th>\n",
       "      <th>std_score_time</th>\n",
       "      <th>param_kernel</th>\n",
       "      <th>params</th>\n",
       "      <th>split0_test_score</th>\n",
       "      <th>split1_test_score</th>\n",
       "      <th>split2_test_score</th>\n",
       "      <th>split3_test_score</th>\n",
       "      <th>split4_test_score</th>\n",
       "      <th>split5_test_score</th>\n",
       "      <th>split6_test_score</th>\n",
       "      <th>split7_test_score</th>\n",
       "      <th>split8_test_score</th>\n",
       "      <th>split9_test_score</th>\n",
       "      <th>mean_test_score</th>\n",
       "      <th>std_test_score</th>\n",
       "      <th>rank_test_score</th>\n",
       "    </tr>\n",
       "  </thead>\n",
       "  <tbody>\n",
       "    <tr>\n",
       "      <th>0</th>\n",
       "      <td>0.985207</td>\n",
       "      <td>0.035155</td>\n",
       "      <td>0.101503</td>\n",
       "      <td>0.020039</td>\n",
       "      <td>linear</td>\n",
       "      <td>{'kernel': 'linear'}</td>\n",
       "      <td>0.820915</td>\n",
       "      <td>0.839216</td>\n",
       "      <td>0.813072</td>\n",
       "      <td>0.848366</td>\n",
       "      <td>0.824837</td>\n",
       "      <td>0.816993</td>\n",
       "      <td>0.816754</td>\n",
       "      <td>0.829843</td>\n",
       "      <td>0.802356</td>\n",
       "      <td>0.794503</td>\n",
       "      <td>0.820685</td>\n",
       "      <td>0.015229</td>\n",
       "      <td>2</td>\n",
       "    </tr>\n",
       "    <tr>\n",
       "      <th>1</th>\n",
       "      <td>1.500815</td>\n",
       "      <td>0.097772</td>\n",
       "      <td>0.264103</td>\n",
       "      <td>0.016477</td>\n",
       "      <td>rbf</td>\n",
       "      <td>{'kernel': 'rbf'}</td>\n",
       "      <td>0.832680</td>\n",
       "      <td>0.839216</td>\n",
       "      <td>0.819608</td>\n",
       "      <td>0.853595</td>\n",
       "      <td>0.830065</td>\n",
       "      <td>0.841830</td>\n",
       "      <td>0.818063</td>\n",
       "      <td>0.835079</td>\n",
       "      <td>0.811518</td>\n",
       "      <td>0.815445</td>\n",
       "      <td>0.829710</td>\n",
       "      <td>0.012719</td>\n",
       "      <td>1</td>\n",
       "    </tr>\n",
       "    <tr>\n",
       "      <th>2</th>\n",
       "      <td>1.262811</td>\n",
       "      <td>0.118397</td>\n",
       "      <td>0.142074</td>\n",
       "      <td>0.033383</td>\n",
       "      <td>poly</td>\n",
       "      <td>{'kernel': 'poly'}</td>\n",
       "      <td>0.811765</td>\n",
       "      <td>0.827451</td>\n",
       "      <td>0.810458</td>\n",
       "      <td>0.835294</td>\n",
       "      <td>0.819608</td>\n",
       "      <td>0.802614</td>\n",
       "      <td>0.811518</td>\n",
       "      <td>0.823298</td>\n",
       "      <td>0.790576</td>\n",
       "      <td>0.790576</td>\n",
       "      <td>0.812316</td>\n",
       "      <td>0.014052</td>\n",
       "      <td>3</td>\n",
       "    </tr>\n",
       "    <tr>\n",
       "      <th>3</th>\n",
       "      <td>1.149801</td>\n",
       "      <td>0.047176</td>\n",
       "      <td>0.096407</td>\n",
       "      <td>0.013324</td>\n",
       "      <td>sigmoid</td>\n",
       "      <td>{'kernel': 'sigmoid'}</td>\n",
       "      <td>0.786928</td>\n",
       "      <td>0.819608</td>\n",
       "      <td>0.786928</td>\n",
       "      <td>0.775163</td>\n",
       "      <td>0.794771</td>\n",
       "      <td>0.775163</td>\n",
       "      <td>0.787958</td>\n",
       "      <td>0.820681</td>\n",
       "      <td>0.768325</td>\n",
       "      <td>0.770942</td>\n",
       "      <td>0.788647</td>\n",
       "      <td>0.017660</td>\n",
       "      <td>4</td>\n",
       "    </tr>\n",
       "  </tbody>\n",
       "</table>\n",
       "</div>"
      ],
      "text/plain": [
       "   mean_fit_time  std_fit_time  mean_score_time  std_score_time param_kernel  \\\n",
       "0       0.985207      0.035155         0.101503        0.020039       linear   \n",
       "1       1.500815      0.097772         0.264103        0.016477          rbf   \n",
       "2       1.262811      0.118397         0.142074        0.033383         poly   \n",
       "3       1.149801      0.047176         0.096407        0.013324      sigmoid   \n",
       "\n",
       "                  params  split0_test_score  split1_test_score  \\\n",
       "0   {'kernel': 'linear'}           0.820915           0.839216   \n",
       "1      {'kernel': 'rbf'}           0.832680           0.839216   \n",
       "2     {'kernel': 'poly'}           0.811765           0.827451   \n",
       "3  {'kernel': 'sigmoid'}           0.786928           0.819608   \n",
       "\n",
       "   split2_test_score  split3_test_score  split4_test_score  split5_test_score  \\\n",
       "0           0.813072           0.848366           0.824837           0.816993   \n",
       "1           0.819608           0.853595           0.830065           0.841830   \n",
       "2           0.810458           0.835294           0.819608           0.802614   \n",
       "3           0.786928           0.775163           0.794771           0.775163   \n",
       "\n",
       "   split6_test_score  split7_test_score  split8_test_score  split9_test_score  \\\n",
       "0           0.816754           0.829843           0.802356           0.794503   \n",
       "1           0.818063           0.835079           0.811518           0.815445   \n",
       "2           0.811518           0.823298           0.790576           0.790576   \n",
       "3           0.787958           0.820681           0.768325           0.770942   \n",
       "\n",
       "   mean_test_score  std_test_score  rank_test_score  \n",
       "0         0.820685        0.015229                2  \n",
       "1         0.829710        0.012719                1  \n",
       "2         0.812316        0.014052                3  \n",
       "3         0.788647        0.017660                4  "
      ]
     },
     "execution_count": 38,
     "metadata": {},
     "output_type": "execute_result"
    }
   ],
   "source": [
    "pd.DataFrame(grid_search.cv_results_)"
   ]
  },
  {
   "cell_type": "code",
   "execution_count": null,
   "id": "e6d8069c-6b98-43ee-9d90-caeea8bb2364",
   "metadata": {
    "extensions": {
     "jupyter_dashboards": {
      "activeView": "grid_default",
      "views": {
       "grid_default": {
        "col": null,
        "height": 2,
        "hidden": true,
        "row": null,
        "width": 2
       }
      }
     }
    }
   },
   "outputs": [],
   "source": []
  }
 ],
 "metadata": {
  "colab": {
   "name": "Dataset 1k.ipynb",
   "provenance": []
  },
  "extensions": {
   "jupyter_dashboards": {
    "activeView": "default_view",
    "version": 1,
    "views": {
     "default_view": {
      "cellMargin": 10,
      "defaultCellHeight": 40,
      "maxColumns": 12,
      "name": "active_view",
      "type": "grid"
     },
     "grid_default": {
      "cellMargin": 2,
      "defaultCellHeight": 60,
      "maxColumns": 12,
      "name": "grid",
      "type": "grid"
     }
    }
   }
  },
  "kernelspec": {
   "display_name": "Python 3 (ipykernel)",
   "language": "python",
   "name": "python3"
  },
  "language_info": {
   "codemirror_mode": {
    "name": "ipython",
    "version": 3
   },
   "file_extension": ".py",
   "mimetype": "text/x-python",
   "name": "python",
   "nbconvert_exporter": "python",
   "pygments_lexer": "ipython3",
   "version": "3.7.12"
  }
 },
 "nbformat": 4,
 "nbformat_minor": 5
}
