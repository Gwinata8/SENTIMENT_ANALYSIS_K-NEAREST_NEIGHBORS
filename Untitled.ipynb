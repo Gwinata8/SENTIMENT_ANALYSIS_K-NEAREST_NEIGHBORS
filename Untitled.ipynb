{
 "cells": [
  {
   "cell_type": "code",
   "execution_count": null,
   "id": "a2c6614d-18db-40c3-a5ef-55781c052343",
   "metadata": {},
   "outputs": [],
   "source": [
    "#!/bin/python3\n",
    "\n",
    "import math\n",
    "import os\n",
    "import random\n",
    "import re\n",
    "import sys\n",
    "\n",
    "\n",
    "#\n",
    "# Complete the 'fizzBuzz' function below.\n",
    "#\n",
    "# The function accepts INTEGER n as parameter.\n",
    "#\n",
    "\n",
    "def fizzBuzz(n):\n",
    "    # Write your code here\n",
    "    # c = ['fizz', 'buzz', 'fizzbuzz']\n",
    "    for i in range(1,n+1):\n",
    "        if i%3 == 0: \n",
    "            print('Fizz')\n",
    "        elif i%5 == 0:\n",
    "            print('Buzz')\n",
    "        elif\n",
    "        else:\n",
    "            print(i)\n",
    "        # elif i%3 == 0:\n",
    "        #     return 'buzz'\n",
    "        \n",
    "        # else :\n",
    "        #     i\n",
    "        \n",
    "    \n",
    "    \n",
    "if __name__ == '__main__':\n",
    "    n = int(input().strip())\n",
    "\n",
    "    fizzBuzz(n)\n"
   ]
  },
  {
   "cell_type": "code",
   "execution_count": 3,
   "id": "6dfe0ad3-4773-4f42-b4c1-901bab2e9637",
   "metadata": {},
   "outputs": [
    {
     "data": {
      "text/plain": [
       "'hello world'"
      ]
     },
     "execution_count": 3,
     "metadata": {},
     "output_type": "execute_result"
    }
   ],
   "source": [
    "def revhw(x):\n",
    "    hw = x[::-1]\n",
    "    return hw\n",
    "\n",
    "test = revhw(\"dlrow olleh\")\n",
    "test"
   ]
  },
  {
   "cell_type": "code",
   "execution_count": null,
   "id": "3b63ae30-0944-49a3-8444-0894b3804db4",
   "metadata": {},
   "outputs": [],
   "source": []
  }
 ],
 "metadata": {
  "kernelspec": {
   "display_name": "Python 3 (ipykernel)",
   "language": "python",
   "name": "python3"
  },
  "language_info": {
   "codemirror_mode": {
    "name": "ipython",
    "version": 3
   },
   "file_extension": ".py",
   "mimetype": "text/x-python",
   "name": "python",
   "nbconvert_exporter": "python",
   "pygments_lexer": "ipython3",
   "version": "3.7.12"
  }
 },
 "nbformat": 4,
 "nbformat_minor": 5
}
